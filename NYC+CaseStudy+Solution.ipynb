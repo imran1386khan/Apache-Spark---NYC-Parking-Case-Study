{
 "cells": [
  {
   "cell_type": "code",
   "execution_count": 2,
   "metadata": {},
   "outputs": [],
   "source": [
    "from pyspark.sql import SparkSession\n",
    "spark = SparkSession \\\n",
    "    .builder \\\n",
    "    .appName(\"nyc\") \\\n",
    "    .getOrCreate()"
   ]
  },
  {
   "cell_type": "code",
   "execution_count": 9,
   "metadata": {},
   "outputs": [
    {
     "data": {
      "text/plain": [
       "DataFrame[Summons Number: string, Plate ID: string, Registration State: string, Issue Date: string, Violation Code: string, Vehicle Body Type: string, Vehicle Make: string, Violation Precinct: string, Issuer Precinct: string, Violation Time: string]"
      ]
     },
     "execution_count": 9,
     "metadata": {},
     "output_type": "execute_result"
    }
   ],
   "source": [
    "tickets_2017 = spark.read.format(\"csv\").option(\"header\", \"true\").load(\"/user/claastraineryubdc_corestack/data/nyc_parking/Parking_Violations_Issued_-_Fiscal_Year_2017.csv\")\n",
    "tickets_2017"
   ]
  },
  {
   "cell_type": "code",
   "execution_count": 10,
   "metadata": {},
   "outputs": [
    {
     "name": "stdout",
     "output_type": "stream",
     "text": [
      "root\n",
      " |-- Summons Number: string (nullable = true)\n",
      " |-- Plate ID: string (nullable = true)\n",
      " |-- Registration State: string (nullable = true)\n",
      " |-- Issue Date: string (nullable = true)\n",
      " |-- Violation Code: string (nullable = true)\n",
      " |-- Vehicle Body Type: string (nullable = true)\n",
      " |-- Vehicle Make: string (nullable = true)\n",
      " |-- Violation Precinct: string (nullable = true)\n",
      " |-- Issuer Precinct: string (nullable = true)\n",
      " |-- Violation Time: string (nullable = true)\n",
      "\n"
     ]
    }
   ],
   "source": [
    "tickets_2017.printSchema()"
   ]
  },
  {
   "cell_type": "code",
   "execution_count": 11,
   "metadata": {},
   "outputs": [
    {
     "name": "stdout",
     "output_type": "stream",
     "text": [
      "+--------------+--------+------------------+----------+--------------+-----------------+------------+------------------+---------------+--------------+\n",
      "|Summons Number|Plate ID|Registration State|Issue Date|Violation Code|Vehicle Body Type|Vehicle Make|Violation Precinct|Issuer Precinct|Violation Time|\n",
      "+--------------+--------+------------------+----------+--------------+-----------------+------------+------------------+---------------+--------------+\n",
      "|    5092469481| GZH7067|                NY|2016-07-10|             7|             SUBN|       TOYOT|                 0|              0|         0143A|\n",
      "|    5092451658| GZH7067|                NY|2016-07-08|             7|             SUBN|       TOYOT|                 0|              0|         0400P|\n",
      "|    4006265037| FZX9232|                NY|2016-08-23|             5|             SUBN|        FORD|                 0|              0|         0233P|\n",
      "|    8478629828| 66623ME|                NY|2017-06-14|            47|             REFG|       MITSU|                14|             14|         1120A|\n",
      "|    7868300310| 37033JV|                NY|2016-11-21|            69|             DELV|       INTER|                13|             13|         0555P|\n",
      "+--------------+--------+------------------+----------+--------------+-----------------+------------+------------------+---------------+--------------+\n",
      "only showing top 5 rows\n",
      "\n"
     ]
    }
   ],
   "source": [
    "tickets_2017.show(5)"
   ]
  },
  {
   "cell_type": "code",
   "execution_count": 12,
   "metadata": {},
   "outputs": [
    {
     "name": "stdout",
     "output_type": "stream",
     "text": [
      "+-------+--------------------+--------+------------------+----------+------------------+------------------+------------------+------------------+-----------------+-----------------+\n",
      "|summary|      Summons Number|Plate ID|Registration State|Issue Date|    Violation Code| Vehicle Body Type|      Vehicle Make|Violation Precinct|  Issuer Precinct|   Violation Time|\n",
      "+-------+--------------------+--------+------------------+----------+------------------+------------------+------------------+------------------+-----------------+-----------------+\n",
      "|  count|            10803028|10803028|          10803028|  10803028|          10803028|          10803028|          10803028|          10803028|         10803028|         10803028|\n",
      "|   mean|  6.81744702906579E9|Infinity|              99.0|      null|34.599430455979565|3.9258887134586864| 6519.974025974026| 45.01216260848347|46.82931211508477|909.2857142857143|\n",
      "| stddev|2.3202339623282275E9|     NaN|               0.0|      null|19.359868716323483|0.5013415469252528|18091.257389147086|40.552560268435705|62.66703577269572|791.8453853409226|\n",
      "|    min|          1002884949|   #1MOM|                99|1972-03-30|                 0|                00|             ,FREI|                 0|                0|            .240P|\n",
      "|    max|          8585600044|       ~|                WY|2069-11-19|                99|               nan|               nan|                99|              997|              nan|\n",
      "+-------+--------------------+--------+------------------+----------+------------------+------------------+------------------+------------------+-----------------+-----------------+\n",
      "\n"
     ]
    }
   ],
   "source": [
    "tickets_2017.describe().show()"
   ]
  },
  {
   "cell_type": "code",
   "execution_count": 13,
   "metadata": {},
   "outputs": [
    {
     "data": {
      "text/plain": [
       "10803028"
      ]
     },
     "execution_count": 13,
     "metadata": {},
     "output_type": "execute_result"
    }
   ],
   "source": [
    "# 1. Find the total number of tickets for the year.\n",
    "tickets_2017.count()"
   ]
  },
  {
   "cell_type": "code",
   "execution_count": 16,
   "metadata": {},
   "outputs": [],
   "source": [
    "# For using SQL, you need to create a temporary view\n",
    "tickets_2017.createOrReplaceTempView(\"data_2017\")"
   ]
  },
  {
   "cell_type": "code",
   "execution_count": 18,
   "metadata": {},
   "outputs": [
    {
     "name": "stdout",
     "output_type": "stream",
     "text": [
      "+-----+\n",
      "|count|\n",
      "+-----+\n",
      "|   67|\n",
      "+-----+\n",
      "\n"
     ]
    }
   ],
   "source": [
    "# 2. Find out the number of unique states from where the cars \n",
    "# that got parking tickets came from. (Hint: Use 'Registration State')\n",
    "spark.sql(\"SELECT count(distinct `Registration State`) as count FROM data_2017\").show()"
   ]
  },
  {
   "cell_type": "code",
   "execution_count": 19,
   "metadata": {},
   "outputs": [
    {
     "name": "stdout",
     "output_type": "stream",
     "text": [
      "+------------------+-------+\n",
      "|Registration State|  count|\n",
      "+------------------+-------+\n",
      "|                NY|8481061|\n",
      "|                NJ| 925965|\n",
      "|                PA| 285419|\n",
      "|                FL| 144556|\n",
      "|                CT| 141088|\n",
      "|                MA|  85547|\n",
      "|                IN|  80749|\n",
      "|                VA|  72626|\n",
      "|                MD|  61800|\n",
      "|                NC|  55806|\n",
      "|                IL|  37329|\n",
      "|                GA|  36852|\n",
      "|                99|  36625|\n",
      "|                TX|  36516|\n",
      "|                AZ|  26426|\n",
      "|                OH|  25302|\n",
      "|                CA|  24260|\n",
      "|                SC|  21836|\n",
      "|                ME|  21574|\n",
      "|                MN|  18227|\n",
      "+------------------+-------+\n",
      "only showing top 20 rows\n",
      "\n"
     ]
    }
   ],
   "source": [
    "# Arranging the dataframe based on number of entries\n",
    "spark.sql(\"SELECT `Registration State`, count(*) as count \\\n",
    "        FROM data_2017 group by `Registration State` order by `count` desc\").show()"
   ]
  },
  {
   "cell_type": "code",
   "execution_count": 21,
   "metadata": {},
   "outputs": [],
   "source": [
    "#Replacing '99' by 'NY' in the dataframe\n",
    "from pyspark.sql import functions as F\n",
    "tickets_2017_new = tickets_2017.withColumn('Registration State',F.when(tickets_2017['Registration State']=='99','NY').otherwise(tickets_2017['Registration State']))"
   ]
  },
  {
   "cell_type": "code",
   "execution_count": 59,
   "metadata": {},
   "outputs": [],
   "source": [
    "# The temporary view needs to be recreated as values have been updated in tickets_2017_new\n",
    "tickets_2017_new.createOrReplaceTempView(\"data_2017\")"
   ]
  },
  {
   "cell_type": "code",
   "execution_count": 23,
   "metadata": {},
   "outputs": [
    {
     "name": "stdout",
     "output_type": "stream",
     "text": [
      "+------------------+-------+\n",
      "|Registration State|  count|\n",
      "+------------------+-------+\n",
      "|                NY|8517686|\n",
      "|                NJ| 925965|\n",
      "|                PA| 285419|\n",
      "|                FL| 144556|\n",
      "|                CT| 141088|\n",
      "|                MA|  85547|\n",
      "|                IN|  80749|\n",
      "|                VA|  72626|\n",
      "|                MD|  61800|\n",
      "|                NC|  55806|\n",
      "|                IL|  37329|\n",
      "|                GA|  36852|\n",
      "|                TX|  36516|\n",
      "|                AZ|  26426|\n",
      "|                OH|  25302|\n",
      "|                CA|  24260|\n",
      "|                SC|  21836|\n",
      "|                ME|  21574|\n",
      "|                MN|  18227|\n",
      "|                OK|  18165|\n",
      "+------------------+-------+\n",
      "only showing top 20 rows\n",
      "\n"
     ]
    }
   ],
   "source": [
    "spark.sql(\"SELECT `Registration State`, count(*) as count \\\n",
    "        FROM data_2017 group by `Registration State` order by `count` desc\").show()"
   ]
  },
  {
   "cell_type": "code",
   "execution_count": 25,
   "metadata": {},
   "outputs": [
    {
     "name": "stdout",
     "output_type": "stream",
     "text": [
      "+-----+\n",
      "|count|\n",
      "+-----+\n",
      "|   66|\n",
      "+-----+\n",
      "\n"
     ]
    }
   ],
   "source": [
    "spark.sql('SELECT count(distinct `Registration State`) as count \\\n",
    "                 FROM data_2017').show()"
   ]
  },
  {
   "cell_type": "markdown",
   "metadata": {},
   "source": [
    "### AGGREGATION TASKS"
   ]
  },
  {
   "cell_type": "raw",
   "metadata": {},
   "source": [
    "1. How often does each violation code occur? (frequency of violation codes - find the top 5)\n",
    "\n",
    "Since we haven't made in changes in the dataframe or the temporary view,we can use the same for analysis"
   ]
  },
  {
   "cell_type": "code",
   "execution_count": 26,
   "metadata": {},
   "outputs": [
    {
     "name": "stdout",
     "output_type": "stream",
     "text": [
      "+--------------+-------+\n",
      "|Violation Code|  count|\n",
      "+--------------+-------+\n",
      "|            21|1528588|\n",
      "|            36|1400614|\n",
      "|            38|1062304|\n",
      "|            14| 893498|\n",
      "|            20| 618593|\n",
      "+--------------+-------+\n",
      "\n"
     ]
    }
   ],
   "source": [
    "spark.sql('SELECT `Violation Code`, count(*) as count \\\n",
    "                    FROM data_2017 group by `Violation Code` order by `count` desc limit 5').show()"
   ]
  },
  {
   "cell_type": "raw",
   "metadata": {},
   "source": [
    "2. How often does each vehicle body type get a parking ticket?\n",
    "How about the vehicle make? (find the top 5 for both)"
   ]
  },
  {
   "cell_type": "code",
   "execution_count": 27,
   "metadata": {},
   "outputs": [
    {
     "name": "stdout",
     "output_type": "stream",
     "text": [
      "+-----------------+-------+\n",
      "|Vehicle Body Type|  count|\n",
      "+-----------------+-------+\n",
      "|             SUBN|3719802|\n",
      "|             4DSD|3082020|\n",
      "|              VAN|1411970|\n",
      "|             DELV| 687330|\n",
      "|              SDN| 438191|\n",
      "+-----------------+-------+\n",
      "\n"
     ]
    }
   ],
   "source": [
    "## Here, `Violation Code` will be replaced by the each of the following variables:\n",
    "spark.sql('SELECT `Vehicle Body Type`, count(*) as count FROM data_2017 \\\n",
    "                    group by `Vehicle Body Type` order by `count` desc limit 5').show()"
   ]
  },
  {
   "cell_type": "code",
   "execution_count": 28,
   "metadata": {},
   "outputs": [
    {
     "name": "stdout",
     "output_type": "stream",
     "text": [
      "+------------+-------+\n",
      "|Vehicle Make|  count|\n",
      "+------------+-------+\n",
      "|        FORD|1280958|\n",
      "|       TOYOT|1211451|\n",
      "|       HONDA|1079238|\n",
      "|       NISSA| 918590|\n",
      "|       CHEVR| 714655|\n",
      "+------------+-------+\n",
      "\n"
     ]
    }
   ],
   "source": [
    "## `Vehicle Make`\n",
    "spark.sql('SELECT `Vehicle Make`, count(*) as count FROM data_2017 \\\n",
    "                    group by `Vehicle Make` order by `count` desc limit 5').show()"
   ]
  },
  {
   "cell_type": "raw",
   "metadata": {},
   "source": [
    "3. A precinct is a police station that has a certain zone of the city under its command.\n",
    "Find the (5 highest) frequencies of:\n",
    "\n",
    "3.1 Violating Precincts (this is the precinct of the zone where the violation occurred).\n",
    "Using this, can you make any insights for parking violations in any specific areas of the city?\n",
    "\n",
    "3.2 Issuing Precincts (this is the precinct that issued the ticket)"
   ]
  },
  {
   "cell_type": "code",
   "execution_count": 29,
   "metadata": {},
   "outputs": [
    {
     "name": "stdout",
     "output_type": "stream",
     "text": [
      "+------------------+-------+\n",
      "|Violation Precinct|  count|\n",
      "+------------------+-------+\n",
      "|                 0|2072400|\n",
      "|                19| 535671|\n",
      "|                14| 352450|\n",
      "|                 1| 331810|\n",
      "|                18| 306920|\n",
      "|               114| 296514|\n",
      "+------------------+-------+\n",
      "\n"
     ]
    }
   ],
   "source": [
    "## Here, `Violation Code` will be replaced by 'Violation Precinct' and 'Issuer Precinct'\n",
    "spark.sql('SELECT `Violation Precinct`, count(*) as count FROM data_2017 \\\n",
    "                    group by `Violation Precinct` order by `count` desc limit 6').show()"
   ]
  },
  {
   "cell_type": "code",
   "execution_count": 30,
   "metadata": {},
   "outputs": [
    {
     "name": "stdout",
     "output_type": "stream",
     "text": [
      "+---------------+-------+\n",
      "|Issuer Precinct|  count|\n",
      "+---------------+-------+\n",
      "|              0|2388479|\n",
      "|             19| 521513|\n",
      "|             14| 344977|\n",
      "|              1| 321170|\n",
      "|             18| 296553|\n",
      "|            114| 289950|\n",
      "+---------------+-------+\n",
      "\n"
     ]
    }
   ],
   "source": [
    "spark.sql('SELECT `Issuer Precinct`, count(*) as count FROM data_2017\\\n",
    "                    group by `Issuer Precinct` order by `count` desc limit 6').show()"
   ]
  },
  {
   "cell_type": "raw",
   "metadata": {},
   "source": [
    "Find the violation code frequency across 3 precincts which have issued the most number of tickets - do these precinct zones have an exceptionally high frequency of certain violation codes? Are these codes common across precincts?\n",
    "The top 3 precincts which have issued maximum tickets are '19', '14' and '1'"
   ]
  },
  {
   "cell_type": "code",
   "execution_count": 32,
   "metadata": {},
   "outputs": [
    {
     "name": "stdout",
     "output_type": "stream",
     "text": [
      "+---------------+--------------+-------------+\n",
      "|Issuer Precinct|Violation Code|count_tickets|\n",
      "+---------------+--------------+-------------+\n",
      "|             19|            46|        86390|\n",
      "|             19|            37|        72437|\n",
      "|             19|            38|        72344|\n",
      "|             19|            14|        57563|\n",
      "|             19|            21|        54700|\n",
      "+---------------+--------------+-------------+\n",
      "\n"
     ]
    }
   ],
   "source": [
    "spark.sql(\"SELECT `Issuer Precinct`, `Violation Code`, count(*) as count_tickets \\\n",
    "                    FROM data_2017 where `Issuer Precinct` = '19'\\\n",
    "                    group by `Issuer Precinct`, `Violation Code` \\\n",
    "                    order by `count_tickets` desc limit 5\").show()"
   ]
  },
  {
   "cell_type": "code",
   "execution_count": 33,
   "metadata": {},
   "outputs": [
    {
     "name": "stdout",
     "output_type": "stream",
     "text": [
      "+---------------+--------------+-------------+\n",
      "|Issuer Precinct|Violation Code|count_tickets|\n",
      "+---------------+--------------+-------------+\n",
      "|             14|            14|        73837|\n",
      "|             14|            69|        58026|\n",
      "|             14|            31|        39857|\n",
      "|             14|            47|        30540|\n",
      "|             14|            42|        20663|\n",
      "+---------------+--------------+-------------+\n",
      "\n"
     ]
    }
   ],
   "source": [
    "spark.sql(\"SELECT `Issuer Precinct`, `Violation Code`, count(*) as count_tickets \\\n",
    "                    FROM data_2017 where `Issuer Precinct` = '14'\\\n",
    "                    group by `Issuer Precinct`, `Violation Code` \\\n",
    "                    order by `count_tickets` desc limit 5\").show()"
   ]
  },
  {
   "cell_type": "code",
   "execution_count": 34,
   "metadata": {},
   "outputs": [
    {
     "name": "stdout",
     "output_type": "stream",
     "text": [
      "+---------------+--------------+-------------+\n",
      "|Issuer Precinct|Violation Code|count_tickets|\n",
      "+---------------+--------------+-------------+\n",
      "|              1|            14|        73522|\n",
      "|              1|            16|        38937|\n",
      "|              1|            20|        27841|\n",
      "|              1|            46|        22534|\n",
      "|              1|            38|        16989|\n",
      "+---------------+--------------+-------------+\n",
      "\n"
     ]
    }
   ],
   "source": [
    "spark.sql(\"SELECT `Issuer Precinct`, `Violation Code`, count(*) as count_tickets \\\n",
    "                    FROM data_2017 where `Issuer Precinct` = '1'\\\n",
    "                    group by `Issuer Precinct`, `Violation Code` \\\n",
    "                    order by `count_tickets` desc limit 5\").show()"
   ]
  },
  {
   "cell_type": "raw",
   "metadata": {},
   "source": [
    "From the results obtained after the above query, you can see that the violation code '14'is common in all the three precincts."
   ]
  },
  {
   "cell_type": "raw",
   "metadata": {},
   "source": [
    "5. Youd want to find out the properties of parking violations across different times of the day:"
   ]
  },
  {
   "cell_type": "code",
   "execution_count": 35,
   "metadata": {},
   "outputs": [
    {
     "name": "stdout",
     "output_type": "stream",
     "text": [
      "+-----+\n",
      "|count|\n",
      "+-----+\n",
      "|    0|\n",
      "+-----+\n",
      "\n"
     ]
    }
   ],
   "source": [
    "## Check for missing values\n",
    "spark.sql(\"select count(*) as count\\\n",
    "                 FROM data_2017 where `Violation Time` is Null\").show()"
   ]
  },
  {
   "cell_type": "raw",
   "metadata": {},
   "source": [
    "Since there are no null values, you can move forward with the analysis"
   ]
  },
  {
   "cell_type": "code",
   "execution_count": 36,
   "metadata": {},
   "outputs": [
    {
     "data": {
      "text/plain": [
       "10803028"
      ]
     },
     "execution_count": 36,
     "metadata": {},
     "output_type": "execute_result"
    }
   ],
   "source": [
    "tickets_2017_new.select('Violation Time').dropna().count()"
   ]
  },
  {
   "cell_type": "code",
   "execution_count": null,
   "metadata": {},
   "outputs": [],
   "source": [
    "# Check for the operation to be performed"
   ]
  },
  {
   "cell_type": "code",
   "execution_count": 39,
   "metadata": {},
   "outputs": [
    {
     "name": "stdout",
     "output_type": "stream",
     "text": [
      "+--------------+----------------+\n",
      "|Violation Time|Violation Time 2|\n",
      "+--------------+----------------+\n",
      "|         0143A|           01:43|\n",
      "|         0400P|           16:00|\n",
      "|         0233P|           14:33|\n",
      "|         1120A|           11:20|\n",
      "|         0555P|           17:55|\n",
      "|         0852P|           20:52|\n",
      "|         0215A|           02:15|\n",
      "|         0758A|           07:58|\n",
      "|         1005A|           10:05|\n",
      "|         0845A|           08:45|\n",
      "|         0015A|           00:15|\n",
      "|         0707A|           07:07|\n",
      "|         1022A|           10:22|\n",
      "|         1150A|           11:50|\n",
      "|         0525A|           05:25|\n",
      "|         0645P|           18:45|\n",
      "|         1122A|           11:22|\n",
      "|         0256P|           14:56|\n",
      "|         1232A|           12:32|\n",
      "|         1034A|           10:34|\n",
      "+--------------+----------------+\n",
      "only showing top 20 rows\n",
      "\n"
     ]
    }
   ],
   "source": [
    "spark.sql(\"select `Violation Time`, if(right(`Violation Time`, 1) == 'A' or left(`Violation Time`, 2) == '12',concat(substring(`Violation Time`, 1,2),\\\n",
    "                    ':', substring(`Violation Time`, 3,2)), concat(int(substring(`Violation Time`, 1,2) + 12),\\\n",
    "                    ':', substring(`Violation Time`, 3,2))) as `Violation Time 2`\\\n",
    "                    from data_2017 limit 50\").show()"
   ]
  },
  {
   "cell_type": "raw",
   "metadata": {},
   "source": [
    "Divide 24 hours into 6 equal discrete bins of time. The intervals you choose are at your discretion. "
   ]
  },
  {
   "cell_type": "code",
   "execution_count": 41,
   "metadata": {},
   "outputs": [],
   "source": [
    "# Creating a separate df with the required fields for analysis\n",
    "time_violation_analysis = spark.sql(\"select if(right(`Violation Time`, 1) == 'A' or left(`Violation Time`, 2) == '12',\\\n",
    "  concat(substring(`Violation Time`, 1,2),':', substring(`Violation Time`,3,2)),\\\n",
    "  concat(int(substring(`Violation Time`, 1,2) + 12),':', substring(`Violation Time`, 3,2)))\\\n",
    "  as `Violation Time`, `Violation Code` from data_2017\")"
   ]
  },
  {
   "cell_type": "code",
   "execution_count": 43,
   "metadata": {},
   "outputs": [
    {
     "name": "stdout",
     "output_type": "stream",
     "text": [
      "+--------------+--------------+\n",
      "|Violation Time|Violation Code|\n",
      "+--------------+--------------+\n",
      "|         01:43|             7|\n",
      "|         16:00|             7|\n",
      "|         14:33|             5|\n",
      "|         11:20|            47|\n",
      "|         17:55|            69|\n",
      "|         20:52|             7|\n",
      "|         02:15|            40|\n",
      "|         07:58|            36|\n",
      "|         10:05|            36|\n",
      "|         08:45|             5|\n",
      "|         00:15|            78|\n",
      "|         07:07|            19|\n",
      "|         10:22|            36|\n",
      "|         11:50|            21|\n",
      "|         05:25|            40|\n",
      "|         18:45|            71|\n",
      "|         11:22|             7|\n",
      "|         14:56|            64|\n",
      "|         12:32|            20|\n",
      "|         10:34|            36|\n",
      "+--------------+--------------+\n",
      "only showing top 20 rows\n",
      "\n"
     ]
    }
   ],
   "source": [
    "time_violation_analysis.show()"
   ]
  },
  {
   "cell_type": "code",
   "execution_count": 44,
   "metadata": {},
   "outputs": [],
   "source": [
    "# For using SQL, you need to create a temporary view\n",
    "time_violation_analysis.createOrReplaceTempView('time_violation_data')"
   ]
  },
  {
   "cell_type": "raw",
   "metadata": {},
   "source": [
    "Separating the time into 6 equal bins based on time. Replacing the dataframe with a new dataframe containing all the columns. For each of these groups, find the 3 most commonly occurring violations"
   ]
  },
  {
   "cell_type": "code",
   "execution_count": 45,
   "metadata": {},
   "outputs": [],
   "source": [
    "time_violation_analysis = spark.sql('''select case\n",
    "                                       when int(substring(`Violation Time`,1,2)) between 00 and 03\n",
    "                                       then '00:00-03:59'\n",
    "                                       when int(substring(`Violation Time`,1,2)) between 04 and 07\n",
    "                                       then '04:00-07:59'\n",
    "                                       when int(substring(`Violation Time`,1,2)) between 08 and 11\n",
    "                                       then '08:00-11:59'\n",
    "                                       when int(substring(`Violation Time`,1,2)) between 12 and 15\n",
    "                                       then '12:00-15:59'\n",
    "                                       when int(substring(`Violation Time`,1,2)) between 16 and 19\n",
    "                                       then '16:00-19:59'\n",
    "                                       else '20:00-23:59'\n",
    "                                       end as bins,  `Violation Time`, `Violation Code`\n",
    "                                       from time_violation_data''')"
   ]
  },
  {
   "cell_type": "code",
   "execution_count": 46,
   "metadata": {},
   "outputs": [
    {
     "name": "stdout",
     "output_type": "stream",
     "text": [
      "+-----------+--------------+--------------+\n",
      "|       bins|Violation Time|Violation Code|\n",
      "+-----------+--------------+--------------+\n",
      "|00:00-03:59|         01:43|             7|\n",
      "|16:00-19:59|         16:00|             7|\n",
      "|12:00-15:59|         14:33|             5|\n",
      "|08:00-11:59|         11:20|            47|\n",
      "|16:00-19:59|         17:55|            69|\n",
      "|20:00-23:59|         20:52|             7|\n",
      "|00:00-03:59|         02:15|            40|\n",
      "|04:00-07:59|         07:58|            36|\n",
      "|08:00-11:59|         10:05|            36|\n",
      "|08:00-11:59|         08:45|             5|\n",
      "|00:00-03:59|         00:15|            78|\n",
      "|04:00-07:59|         07:07|            19|\n",
      "|08:00-11:59|         10:22|            36|\n",
      "|08:00-11:59|         11:50|            21|\n",
      "|04:00-07:59|         05:25|            40|\n",
      "|16:00-19:59|         18:45|            71|\n",
      "|08:00-11:59|         11:22|             7|\n",
      "|12:00-15:59|         14:56|            64|\n",
      "|12:00-15:59|         12:32|            20|\n",
      "|08:00-11:59|         10:34|            36|\n",
      "+-----------+--------------+--------------+\n",
      "only showing top 20 rows\n",
      "\n"
     ]
    }
   ],
   "source": [
    "time_violation_analysis.show()"
   ]
  },
  {
   "cell_type": "code",
   "execution_count": 47,
   "metadata": {},
   "outputs": [],
   "source": [
    "# Updating the SQL view\n",
    "time_violation_analysis.createOrReplaceTempView('time_violation_data')"
   ]
  },
  {
   "cell_type": "code",
   "execution_count": 48,
   "metadata": {},
   "outputs": [
    {
     "name": "stdout",
     "output_type": "stream",
     "text": [
      "+-----------+--------------+-----+\n",
      "|       bins|Violation Code|count|\n",
      "+-----------+--------------+-----+\n",
      "|00:00-03:59|            21|73160|\n",
      "|00:00-03:59|            40|45960|\n",
      "|00:00-03:59|            14|29312|\n",
      "+-----------+--------------+-----+\n",
      "\n"
     ]
    }
   ],
   "source": [
    "spark.sql(\"SELECT bins, `Violation Code`, count(*) as `count`\\\n",
    "                    FROM time_violation_data where bins = '00:00-03:59'\\\n",
    "                    group by bins, `Violation Code`\\\n",
    "                    order by `count` desc limit 3\").show()"
   ]
  },
  {
   "cell_type": "code",
   "execution_count": 49,
   "metadata": {},
   "outputs": [
    {
     "name": "stdout",
     "output_type": "stream",
     "text": [
      "+-----------+--------------+------+\n",
      "|       bins|Violation Code| count|\n",
      "+-----------+--------------+------+\n",
      "|04:00-07:59|            14|141276|\n",
      "|04:00-07:59|            21|119469|\n",
      "|04:00-07:59|            40|112186|\n",
      "+-----------+--------------+------+\n",
      "\n"
     ]
    }
   ],
   "source": [
    "spark.sql(\"SELECT bins, `Violation Code`, count(*) as `count`\\\n",
    "                    FROM time_violation_data where bins = '04:00-07:59'\\\n",
    "                    group by bins, `Violation Code`\\\n",
    "                    order by `count` desc limit 3\").show()"
   ]
  },
  {
   "cell_type": "code",
   "execution_count": 50,
   "metadata": {},
   "outputs": [
    {
     "name": "stdout",
     "output_type": "stream",
     "text": [
      "+-----------+--------------+-------+\n",
      "|       bins|Violation Code|  count|\n",
      "+-----------+--------------+-------+\n",
      "|08:00-11:59|            21|1182689|\n",
      "|08:00-11:59|            36| 751422|\n",
      "|08:00-11:59|            38| 346518|\n",
      "+-----------+--------------+-------+\n",
      "\n"
     ]
    }
   ],
   "source": [
    "spark.sql(\"SELECT bins, `Violation Code`, count(*) as `count`\\\n",
    "                    FROM time_violation_data where bins = '08:00-11:59'\\\n",
    "                    group by bins, `Violation Code`\\\n",
    "                    order by `count` desc limit 3\").show()"
   ]
  },
  {
   "cell_type": "code",
   "execution_count": 51,
   "metadata": {},
   "outputs": [
    {
     "name": "stdout",
     "output_type": "stream",
     "text": [
      "+-----------+--------------+------+\n",
      "|       bins|Violation Code| count|\n",
      "+-----------+--------------+------+\n",
      "|12:00-15:59|            36|588395|\n",
      "|12:00-15:59|            38|462859|\n",
      "|12:00-15:59|            37|337096|\n",
      "+-----------+--------------+------+\n",
      "\n"
     ]
    }
   ],
   "source": [
    "spark.sql(\"SELECT bins, `Violation Code`, count(*) as `count`\\\n",
    "                    FROM time_violation_data where bins = '12:00-15:59'\\\n",
    "                    group by bins, `Violation Code`\\\n",
    "                    order by `count` desc limit 3\").show()"
   ]
  },
  {
   "cell_type": "code",
   "execution_count": 52,
   "metadata": {},
   "outputs": [
    {
     "name": "stdout",
     "output_type": "stream",
     "text": [
      "+-----------+--------------+------+\n",
      "|       bins|Violation Code| count|\n",
      "+-----------+--------------+------+\n",
      "|16:00-19:59|            38|203232|\n",
      "|16:00-19:59|            37|145784|\n",
      "|16:00-19:59|            14|144749|\n",
      "+-----------+--------------+------+\n",
      "\n"
     ]
    }
   ],
   "source": [
    "spark.sql(\"SELECT bins, `Violation Code`, count(*) as `count`\\\n",
    "                    FROM time_violation_data where bins = '16:00-19:59'\\\n",
    "                    group by bins, `Violation Code`\\\n",
    "                    order by `count` desc limit 3\").show()"
   ]
  },
  {
   "cell_type": "code",
   "execution_count": 53,
   "metadata": {},
   "outputs": [
    {
     "name": "stdout",
     "output_type": "stream",
     "text": [
      "+-----------+--------------+-----+\n",
      "|       bins|Violation Code|count|\n",
      "+-----------+--------------+-----+\n",
      "|20:00-23:59|             7|65593|\n",
      "|20:00-23:59|            38|47032|\n",
      "|20:00-23:59|            14|44787|\n",
      "+-----------+--------------+-----+\n",
      "\n"
     ]
    }
   ],
   "source": [
    "spark.sql(\"SELECT bins, `Violation Code`, count(*) as `count`\\\n",
    "                    FROM time_violation_data where bins = '20:00-23:59'\\\n",
    "                    group by bins, `Violation Code`\\\n",
    "                    order by `count` desc limit 3\").show()"
   ]
  },
  {
   "cell_type": "raw",
   "metadata": {},
   "source": [
    "Now, try another direction. For the 3 most commonly occurring violation codes, find the most common times of day (in terms of the bins from the previous part)"
   ]
  },
  {
   "cell_type": "code",
   "execution_count": 54,
   "metadata": {},
   "outputs": [
    {
     "name": "stdout",
     "output_type": "stream",
     "text": [
      "+--------------+-------+\n",
      "|Violation Code|  count|\n",
      "+--------------+-------+\n",
      "|            21|1528588|\n",
      "|            36|1400614|\n",
      "|            38|1062304|\n",
      "+--------------+-------+\n",
      "\n"
     ]
    }
   ],
   "source": [
    "# Finding the 3 most commonly occurring violation codes\n",
    "spark.sql(\"SELECT `Violation Code`, count(*) as `count`\\\n",
    "                    FROM time_violation_data\\\n",
    "                    group by `Violation Code`\\\n",
    "                    order by `count` desc limit 3\").show()"
   ]
  },
  {
   "cell_type": "raw",
   "metadata": {},
   "source": [
    "Violation codes: 21, 36, 38"
   ]
  },
  {
   "cell_type": "code",
   "execution_count": 55,
   "metadata": {},
   "outputs": [
    {
     "name": "stdout",
     "output_type": "stream",
     "text": [
      "+--------------+-----------+-------+\n",
      "|Violation Code|       bins|  count|\n",
      "+--------------+-----------+-------+\n",
      "|            21|08:00-11:59|1182689|\n",
      "+--------------+-----------+-------+\n",
      "\n"
     ]
    }
   ],
   "source": [
    "spark.sql(\"SELECT `Violation Code`, bins, count(*) as `count`\\\n",
    "                    FROM time_violation_data where `Violation Code` = '21'\\\n",
    "                    group by `Violation Code`, bins\\\n",
    "                    order by `count` desc limit 1\").show()"
   ]
  },
  {
   "cell_type": "code",
   "execution_count": 56,
   "metadata": {},
   "outputs": [
    {
     "name": "stdout",
     "output_type": "stream",
     "text": [
      "+--------------+-----------+------+\n",
      "|Violation Code|       bins| count|\n",
      "+--------------+-----------+------+\n",
      "|            36|08:00-11:59|751422|\n",
      "+--------------+-----------+------+\n",
      "\n"
     ]
    }
   ],
   "source": [
    "spark.sql(\"SELECT `Violation Code`, bins, count(*) as `count`\\\n",
    "                    FROM time_violation_data where `Violation Code` = '36'\\\n",
    "                    group by `Violation Code`, bins\\\n",
    "                    order by `count` desc limit 1\").show()"
   ]
  },
  {
   "cell_type": "code",
   "execution_count": 57,
   "metadata": {},
   "outputs": [
    {
     "name": "stdout",
     "output_type": "stream",
     "text": [
      "+--------------+-----------+------+\n",
      "|Violation Code|       bins| count|\n",
      "+--------------+-----------+------+\n",
      "|            38|12:00-15:59|462859|\n",
      "+--------------+-----------+------+\n",
      "\n"
     ]
    }
   ],
   "source": [
    "spark.sql(\"SELECT `Violation Code`, bins, count(*) as `count`\\\n",
    "                    FROM time_violation_data where `Violation Code` = '38'\\\n",
    "                    group by `Violation Code`, bins\\\n",
    "                    order by `count` desc limit 1\").show()"
   ]
  },
  {
   "cell_type": "raw",
   "metadata": {},
   "source": [
    "For code 21, maximum tickets occur during the time - 08:00 AM to 12:00 PM\n",
    "For code 36, maximum tickets occur during the time - 08:00 AM to 12:00 PM\n",
    "For code 38, maximum tickets occur during the time - 12:00 PM to 04:00 PM"
   ]
  },
  {
   "cell_type": "raw",
   "metadata": {},
   "source": [
    "6. Seasonality\n",
    "This can be done in different ways\n",
    "Seasonality can be defined month-wise, or season-wise (3 months)\n",
    "We have performed based on the seasons - Summer, Winter, Spring and Autumn"
   ]
  },
  {
   "cell_type": "code",
   "execution_count": 66,
   "metadata": {},
   "outputs": [],
   "source": [
    "tickets_seasonality = spark.sql('''select `Violation Code`, `Issue Date`, case\n",
    "                                  when month(to_date(`Issue Date`, 'yyyy-MM-dd')) between 03 and 05\n",
    "                                  then 'spring'\n",
    "                                  when month(to_date(`Issue Date`, 'yyyy-MM-dd')) between 06 and 08\n",
    "                                  then 'summer'\n",
    "                                  when month(to_date(`Issue Date`, 'yyyy-MM-dd')) between 09 and 11\n",
    "                                  then 'autumn'\n",
    "                                  when month(to_date(`Issue Date`, 'yyyy-MM-dd')) in (1,2,12)\n",
    "                                  then 'winter'\n",
    "                                  else 'unknown'\n",
    "                                  end as season\n",
    "                                  from data_2017''')"
   ]
  },
  {
   "cell_type": "code",
   "execution_count": 67,
   "metadata": {},
   "outputs": [
    {
     "name": "stdout",
     "output_type": "stream",
     "text": [
      "+--------------+----------+------+\n",
      "|Violation Code|Issue Date|season|\n",
      "+--------------+----------+------+\n",
      "|             7|2016-07-10|summer|\n",
      "|             7|2016-07-08|summer|\n",
      "|             5|2016-08-23|summer|\n",
      "|            47|2017-06-14|summer|\n",
      "|            69|2016-11-21|autumn|\n",
      "|             7|2017-06-13|summer|\n",
      "|            40|2016-08-03|summer|\n",
      "|            36|2016-12-21|winter|\n",
      "|            36|2016-11-21|autumn|\n",
      "|             5|2016-10-05|autumn|\n",
      "|            78|2017-01-11|winter|\n",
      "|            19|2016-09-27|autumn|\n",
      "|            36|2016-10-27|autumn|\n",
      "|            21|2016-09-30|autumn|\n",
      "|            40|2017-02-04|winter|\n",
      "|            71|2016-07-07|summer|\n",
      "|             7|2016-09-24|autumn|\n",
      "|            64|2017-01-26|winter|\n",
      "|            20|2017-04-30|spring|\n",
      "|            36|2017-02-03|winter|\n",
      "+--------------+----------+------+\n",
      "only showing top 20 rows\n",
      "\n"
     ]
    }
   ],
   "source": [
    "tickets_seasonality.show()"
   ]
  },
  {
   "cell_type": "code",
   "execution_count": 68,
   "metadata": {},
   "outputs": [],
   "source": [
    "# For using SQL, you need to create a temporary view\n",
    "tickets_seasonality.createOrReplaceTempView('seasonal_data')"
   ]
  },
  {
   "cell_type": "code",
   "execution_count": 69,
   "metadata": {},
   "outputs": [
    {
     "name": "stdout",
     "output_type": "stream",
     "text": [
      "+------+-------------+\n",
      "|season|no_of_tickets|\n",
      "+------+-------------+\n",
      "|spring|      2880687|\n",
      "|autumn|      2830802|\n",
      "|summer|      2606208|\n",
      "|winter|      2485331|\n",
      "+------+-------------+\n",
      "\n"
     ]
    }
   ],
   "source": [
    "spark.sql(\"select `season`, count(*) as no_of_tickets\\\n",
    "                    from seasonal_data\\\n",
    "                    group by `season`\\\n",
    "                    order by no_of_tickets desc\").show()"
   ]
  },
  {
   "cell_type": "raw",
   "metadata": {},
   "source": [
    "The 3 most common violations for each season"
   ]
  },
  {
   "cell_type": "code",
   "execution_count": 70,
   "metadata": {},
   "outputs": [
    {
     "name": "stdout",
     "output_type": "stream",
     "text": [
      "+------+-------------+\n",
      "|season|no_of_tickets|\n",
      "+------+-------------+\n",
      "|spring|      2880687|\n",
      "|autumn|      2830802|\n",
      "|summer|      2606208|\n",
      "|winter|      2485331|\n",
      "+------+-------------+\n",
      "\n"
     ]
    }
   ],
   "source": [
    "spark.sql(\"select `season`, count(*) as no_of_tickets\\\n",
    "                    from seasonal_data\\\n",
    "                    group by `season`\\\n",
    "                    order by no_of_tickets desc\").show()"
   ]
  },
  {
   "cell_type": "code",
   "execution_count": 71,
   "metadata": {},
   "outputs": [
    {
     "name": "stdout",
     "output_type": "stream",
     "text": [
      "+------+--------------+-------------+\n",
      "|season|Violation Code|no_of_tickets|\n",
      "+------+--------------+-------------+\n",
      "|autumn|            36|       456046|\n",
      "|autumn|            21|       357479|\n",
      "|autumn|            38|       283828|\n",
      "+------+--------------+-------------+\n",
      "\n"
     ]
    }
   ],
   "source": [
    "spark.sql(\"select `season`, `Violation Code`, count(*) as no_of_tickets\\\n",
    "                    from seasonal_data where `season` = 'autumn' \\\n",
    "                    group by season, `Violation Code` order by no_of_tickets desc\\\n",
    "                    limit 3\").show()"
   ]
  },
  {
   "cell_type": "code",
   "execution_count": 72,
   "metadata": {},
   "outputs": [
    {
     "name": "stdout",
     "output_type": "stream",
     "text": [
      "+------+--------------+-------------+\n",
      "|season|Violation Code|no_of_tickets|\n",
      "+------+--------------+-------------+\n",
      "|summer|            21|       405961|\n",
      "|summer|            38|       247561|\n",
      "|summer|            36|       240396|\n",
      "+------+--------------+-------------+\n",
      "\n"
     ]
    }
   ],
   "source": [
    "spark.sql(\"select `season`, `Violation Code`, count(*) as no_of_tickets\\\n",
    "                    from seasonal_data where `season` = 'summer' \\\n",
    "                    group by season, `Violation Code` order by no_of_tickets desc\\\n",
    "                    limit 3\").show()"
   ]
  },
  {
   "cell_type": "code",
   "execution_count": 73,
   "metadata": {},
   "outputs": [
    {
     "name": "stdout",
     "output_type": "stream",
     "text": [
      "+------+--------------+-------------+\n",
      "|season|Violation Code|no_of_tickets|\n",
      "+------+--------------+-------------+\n",
      "|winter|            21|       362341|\n",
      "|winter|            36|       359338|\n",
      "|winter|            38|       259723|\n",
      "+------+--------------+-------------+\n",
      "\n"
     ]
    }
   ],
   "source": [
    "spark.sql(\"select `season`, `Violation Code`, count(*) as no_of_tickets\\\n",
    "                    from seasonal_data where `season` = 'winter' \\\n",
    "                    group by season, `Violation Code` order by no_of_tickets desc\\\n",
    "                    limit 3\").show()"
   ]
  },
  {
   "cell_type": "raw",
   "metadata": {},
   "source": [
    "The fines collected from all the parking violation constitute a revenue sourcefor the NYC police department. Let's take an example of estimating that for the 3 most commonly occurring codes.\n",
    "\n",
    "Three most occuring violation codes : 21, 36, 38"
   ]
  },
  {
   "cell_type": "code",
   "execution_count": 74,
   "metadata": {},
   "outputs": [
    {
     "name": "stdout",
     "output_type": "stream",
     "text": [
      "+--------------+-------------+\n",
      "|Violation Code|no_of_tickets|\n",
      "+--------------+-------------+\n",
      "|            21|      1528588|\n",
      "|            36|      1400614|\n",
      "|            38|      1062304|\n",
      "+--------------+-------------+\n",
      "\n"
     ]
    }
   ],
   "source": [
    "## Total occurrences of the 3 most common violation codes\n",
    "spark.sql(\"select `Violation Code`, count(*) as `no_of_tickets`\\\n",
    "                    from data_2017\\\n",
    "                    group by `Violation Code`\\\n",
    "                    order by `no_of_tickets` desc\\\n",
    "                    limit 3\").show()"
   ]
  },
  {
   "cell_type": "raw",
   "metadata": {},
   "source": [
    "Fine amount for each code can be checked from the website\n",
    "http://www1.nyc.gov/site/finance/vehicles/services-violation-codes.page\n",
    "\n",
    "21\t\n",
    "Street Cleaning: No parking where parking is not allowed by sign, \n",
    "street marking or traffic control device\n",
    "Fine amount - average - $55\n",
    "\n",
    "36\n",
    "Exceeding the posted speed limit in or near a designated school zone.\n",
    "Fine amount - average - $50\n",
    "\n",
    "38\n",
    "Parking Meter - Failing to show a receipt or tag in the windshield.\n",
    "Drivers get a 5-minute grace period past the expired time on parking meter receipts.\n",
    "Fine amount - average - $50"
   ]
  },
  {
   "cell_type": "code",
   "execution_count": 75,
   "metadata": {},
   "outputs": [
    {
     "name": "stdout",
     "output_type": "stream",
     "text": [
      "+--------------+-----------+\n",
      "|Violation Code|fine_amount|\n",
      "+--------------+-----------+\n",
      "|            21|   84072340|\n",
      "|            36|   70030700|\n",
      "|            38|   53115200|\n",
      "+--------------+-----------+\n",
      "\n"
     ]
    }
   ],
   "source": [
    "spark.sql('''select `Violation Code`, case\n",
    "                    when `Violation Code` = 21\n",
    "                    then 55 * count(*)\n",
    "                    when `Violation Code` = 36\n",
    "                    then 50* count(*)\n",
    "                    when `Violation Code` = 38\n",
    "                    then 50* count(*)\n",
    "                    else '0'\n",
    "                    end as `fine_amount`\n",
    "                    from data_2017\n",
    "                    group by `Violation Code`\n",
    "                    order by `fine_amount` desc\n",
    "                    limit 3''').show()"
   ]
  },
  {
   "cell_type": "raw",
   "metadata": {},
   "source": [
    "What can you intuitively infer from these findings?"
   ]
  },
  {
   "cell_type": "code",
   "execution_count": 76,
   "metadata": {},
   "outputs": [],
   "source": [
    "spark.stop()"
   ]
  }
 ],
 "metadata": {
  "kernelspec": {
   "display_name": "PySpark",
   "language": "python",
   "name": "pyspark"
  },
  "language_info": {
   "codemirror_mode": {
    "name": "ipython",
    "version": 2
   },
   "file_extension": ".py",
   "mimetype": "text/x-python",
   "name": "python",
   "nbconvert_exporter": "python",
   "pygments_lexer": "ipython2",
   "version": "2.7.15"
  }
 },
 "nbformat": 4,
 "nbformat_minor": 2
}
