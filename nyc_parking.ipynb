{
 "cells": [
  {
   "cell_type": "code",
   "execution_count": 212,
   "metadata": {},
   "outputs": [],
   "source": [
    "# Initiallizing the spark session\n",
    "from pyspark.sql import SparkSession\n",
    "spark = SparkSession \\\n",
    "    .builder \\\n",
    "    .appName(\"NYC_Parking_Tickets\") \\\n",
    "    .getOrCreate()"
   ]
  },
  {
   "cell_type": "code",
   "execution_count": 213,
   "metadata": {},
   "outputs": [
    {
     "data": {
      "text/plain": [
       "DataFrame[Summons Number: string, Plate ID: string, Registration State: string, Issue Date: string, Violation Code: string, Vehicle Body Type: string, Vehicle Make: string, Violation Precinct: string, Issuer Precinct: string, Violation Time: string]"
      ]
     },
     "execution_count": 213,
     "metadata": {},
     "output_type": "execute_result"
    }
   ],
   "source": [
    "# Reading the data\n",
    "nyc = spark.read.format(\"csv\").option(\"header\", \"true\").load(\"/common_folder/nyc_parking/Parking_Violations_Issued_-_Fiscal_Year_2017.csv\")\n",
    "nyc"
   ]
  },
  {
   "cell_type": "code",
   "execution_count": 214,
   "metadata": {},
   "outputs": [
    {
     "name": "stdout",
     "output_type": "stream",
     "text": [
      "+--------------+--------+------------------+----------+--------------+-----------------+------------+------------------+---------------+--------------+\n",
      "|Summons Number|Plate ID|Registration State|Issue Date|Violation Code|Vehicle Body Type|Vehicle Make|Violation Precinct|Issuer Precinct|Violation Time|\n",
      "+--------------+--------+------------------+----------+--------------+-----------------+------------+------------------+---------------+--------------+\n",
      "|    5092469481| GZH7067|                NY|2016-07-10|             7|             SUBN|       TOYOT|                 0|              0|         0143A|\n",
      "|    5092451658| GZH7067|                NY|2016-07-08|             7|             SUBN|       TOYOT|                 0|              0|         0400P|\n",
      "|    4006265037| FZX9232|                NY|2016-08-23|             5|             SUBN|        FORD|                 0|              0|         0233P|\n",
      "|    8478629828| 66623ME|                NY|2017-06-14|            47|             REFG|       MITSU|                14|             14|         1120A|\n",
      "|    7868300310| 37033JV|                NY|2016-11-21|            69|             DELV|       INTER|                13|             13|         0555P|\n",
      "+--------------+--------+------------------+----------+--------------+-----------------+------------+------------------+---------------+--------------+\n",
      "only showing top 5 rows\n",
      "\n"
     ]
    }
   ],
   "source": [
    "# Having a look at the first few rows of the data\n",
    "nyc.show(5)"
   ]
  },
  {
   "cell_type": "code",
   "execution_count": 215,
   "metadata": {},
   "outputs": [
    {
     "data": {
      "text/plain": [
       "10803028"
      ]
     },
     "execution_count": 215,
     "metadata": {},
     "output_type": "execute_result"
    }
   ],
   "source": [
    "# Counting the number of rows\n",
    "nyc.count()"
   ]
  },
  {
   "cell_type": "code",
   "execution_count": 216,
   "metadata": {},
   "outputs": [
    {
     "data": {
      "text/plain": [
       "10"
      ]
     },
     "execution_count": 216,
     "metadata": {},
     "output_type": "execute_result"
    }
   ],
   "source": [
    "# Counting the number of columns\n",
    "len(nyc.columns)"
   ]
  },
  {
   "cell_type": "markdown",
   "metadata": {},
   "source": [
    "- There are a total of 10 columns present in the dataset.\n",
    "- A total of 10803028 records are present in the data."
   ]
  },
  {
   "cell_type": "code",
   "execution_count": 217,
   "metadata": {},
   "outputs": [
    {
     "name": "stdout",
     "output_type": "stream",
     "text": [
      "root\n",
      " |-- Summons Number: string (nullable = true)\n",
      " |-- Plate ID: string (nullable = true)\n",
      " |-- Registration State: string (nullable = true)\n",
      " |-- Issue Date: string (nullable = true)\n",
      " |-- Violation Code: string (nullable = true)\n",
      " |-- Vehicle Body Type: string (nullable = true)\n",
      " |-- Vehicle Make: string (nullable = true)\n",
      " |-- Violation Precinct: string (nullable = true)\n",
      " |-- Issuer Precinct: string (nullable = true)\n",
      " |-- Violation Time: string (nullable = true)\n",
      "\n"
     ]
    }
   ],
   "source": [
    "# Printing the schema\n",
    "nyc.printSchema()"
   ]
  },
  {
   "cell_type": "code",
   "execution_count": 218,
   "metadata": {},
   "outputs": [
    {
     "data": {
      "text/plain": [
       "10803028"
      ]
     },
     "execution_count": 218,
     "metadata": {},
     "output_type": "execute_result"
    }
   ],
   "source": [
    "# Droping duplicates from the data\n",
    "nyc = nyc.dropDuplicates()\n",
    "nyc.count()"
   ]
  },
  {
   "cell_type": "code",
   "execution_count": 219,
   "metadata": {},
   "outputs": [
    {
     "name": "stdout",
     "output_type": "stream",
     "text": [
      "+--------------+--------+------------------+----------+--------------+-----------------+------------+------------------+---------------+--------------+\n",
      "|Summons_Number|Plate_ID|Registration_State|Issue_Date|Violation_Code|Vehicle_Body_Type|Vehicle_Make|Violation_Precinct|Issuer_Precinct|Violation_Time|\n",
      "+--------------+--------+------------------+----------+--------------+-----------------+------------+------------------+---------------+--------------+\n",
      "|    4628596529| FFV9629|                NY|2016-12-16|            36|             SUBN|       SUBAR|                 0|              0|         0100P|\n",
      "|    4628733510| FYM4253|                NY|2016-12-22|            36|             4DSD|       CHEVR|                 0|              0|         0100P|\n",
      "|    4635150288| GUW9906|                NY|2017-06-15|            36|             4DSD|       ACURA|                 0|              0|         0100P|\n",
      "|    4631812084| HCF7779|                NY|2017-03-15|            36|             SUBN|       HONDA|                 0|              0|         0100P|\n",
      "|    4633972005| HLA6429|                NY|2017-05-16|            36|             SUBN|       VOLKS|                 0|              0|         0100P|\n",
      "+--------------+--------+------------------+----------+--------------+-----------------+------------+------------------+---------------+--------------+\n",
      "only showing top 5 rows\n",
      "\n"
     ]
    }
   ],
   "source": [
    "# Replacing the space in the column names with underscore\n",
    "nyc = nyc.toDF(*(i.replace(' ', '_') for i in nyc.columns))\n",
    "nyc.show(5)"
   ]
  },
  {
   "cell_type": "code",
   "execution_count": 220,
   "metadata": {},
   "outputs": [
    {
     "data": {
      "text/plain": [
       "DataFrame[Summons_Number: string, Plate_ID: string, Registration_State: string, Issue_Date: string, Violation_Code: string, Vehicle_Body_Type: string, Vehicle_Make: string, Violation_Precinct: string, Issuer_Precinct: string, Violation_Time: string]"
      ]
     },
     "execution_count": 220,
     "metadata": {},
     "output_type": "execute_result"
    }
   ],
   "source": [
    "# Creating a temprory view to use SQL\n",
    "nyc.createOrReplaceTempView(\"nyctable\")\n",
    "spark.sql('Select * from nyctable')"
   ]
  },
  {
   "cell_type": "code",
   "execution_count": 221,
   "metadata": {},
   "outputs": [
    {
     "name": "stdout",
     "output_type": "stream",
     "text": [
      "+-------------+--------------------+\n",
      "|Year_of_issue|No_of_tickets_issued|\n",
      "+-------------+--------------------+\n",
      "|         1972|                   2|\n",
      "|         1973|                   2|\n",
      "|         1974|                   1|\n",
      "|         1976|                   1|\n",
      "|         1977|                   1|\n",
      "|         1984|                   1|\n",
      "|         1985|                   1|\n",
      "|         1990|                   2|\n",
      "|         1991|                   3|\n",
      "|         1994|                   1|\n",
      "|         1996|                   1|\n",
      "|         1997|                   1|\n",
      "|         2000|                 185|\n",
      "|         2001|                   2|\n",
      "|         2002|                   1|\n",
      "|         2003|                   1|\n",
      "|         2004|                   2|\n",
      "|         2005|                   1|\n",
      "|         2006|                   8|\n",
      "|         2007|                  18|\n",
      "|         2008|                   4|\n",
      "|         2009|                   3|\n",
      "|         2010|                  48|\n",
      "|         2011|                  22|\n",
      "|         2012|                  87|\n",
      "|         2013|                  70|\n",
      "|         2014|                 120|\n",
      "|         2015|                 419|\n",
      "|         2016|             5368391|\n",
      "|         2017|             5431918|\n",
      "|         2018|                1057|\n",
      "|         2019|                 472|\n",
      "|         2020|                  22|\n",
      "|         2021|                  22|\n",
      "|         2022|                   4|\n",
      "|         2023|                   5|\n",
      "|         2024|                   3|\n",
      "|         2025|                   6|\n",
      "|         2026|                  24|\n",
      "|         2027|                  50|\n",
      "|         2028|                   8|\n",
      "|         2029|                   2|\n",
      "|         2030|                  12|\n",
      "|         2031|                   5|\n",
      "|         2033|                   2|\n",
      "|         2036|                   1|\n",
      "|         2041|                   1|\n",
      "|         2047|                   2|\n",
      "|         2053|                   1|\n",
      "|         2060|                   2|\n",
      "|         2061|                   1|\n",
      "|         2062|                   2|\n",
      "|         2063|                   2|\n",
      "|         2068|                   1|\n",
      "|         2069|                   4|\n",
      "+-------------+--------------------+\n",
      "\n"
     ]
    }
   ],
   "source": [
    "# Checking the total number of tickets issued in each year\n",
    "ticket_issued_per_year = spark.sql(\"select year(Issue_Date) as Year_of_issue, count(Summons_Number) as No_of_tickets_issued from nyctable group by Year_of_issue order by Year_of_issue\")\n",
    "ticket_issued_per_year.show(100)"
   ]
  },
  {
   "cell_type": "markdown",
   "metadata": {},
   "source": [
    "- Tickets have been issued from the year 1972 to 2069.\n",
    "- Maximum tickets have been issued in the year 2016 and 2017."
   ]
  },
  {
   "cell_type": "code",
   "execution_count": 222,
   "metadata": {},
   "outputs": [
    {
     "data": {
      "text/plain": [
       "55"
      ]
     },
     "execution_count": 222,
     "metadata": {},
     "output_type": "execute_result"
    }
   ],
   "source": [
    "# Total number of years where the tickets have been issued\n",
    "ticket_issued_per_year.count()"
   ]
  },
  {
   "cell_type": "code",
   "execution_count": 223,
   "metadata": {},
   "outputs": [
    {
     "data": {
      "text/plain": [
       "5431918"
      ]
     },
     "execution_count": 223,
     "metadata": {},
     "output_type": "execute_result"
    }
   ],
   "source": [
    "# Filtering the data for the year 2017 only\n",
    "# Counting the total number of records for 2017\n",
    "nyc.createOrReplaceTempView(\"2017_table\")\n",
    "nyc = spark.sql(\"select * from 2017_table where year(Issue_Date) = 2017 \")\n",
    "nyc.count()"
   ]
  },
  {
   "cell_type": "markdown",
   "metadata": {},
   "source": [
    "- There are a total of 5431918 tickets issued in the year 2017."
   ]
  },
  {
   "cell_type": "code",
   "execution_count": 224,
   "metadata": {},
   "outputs": [
    {
     "name": "stdout",
     "output_type": "stream",
     "text": [
      "+----+-----+----------------+\n",
      "|year|month|Ticket_Frequency|\n",
      "+----+-----+----------------+\n",
      "|2017|    1|          877365|\n",
      "|2017|    2|          826967|\n",
      "|2017|    3|          964737|\n",
      "|2017|    4|          888402|\n",
      "|2017|    5|         1020244|\n",
      "|2017|    6|          852187|\n",
      "|2017|    7|             370|\n",
      "|2017|    8|             309|\n",
      "|2017|    9|             367|\n",
      "|2017|   10|             274|\n",
      "|2017|   11|             338|\n",
      "|2017|   12|             358|\n",
      "+----+-----+----------------+\n",
      "\n"
     ]
    }
   ],
   "source": [
    "# Distribution of tickets during variuos months of 2017 \n",
    "nyc.createOrReplaceTempView(\"2017_table\")\n",
    "monthwise_ticket_2017= spark.sql(\"SELECT year(Issue_Date) as year,month(Issue_Date) as month,count(*) as Ticket_Frequency FROM 2017_table GROUP BY year(Issue_Date),month(Issue_Date) order by month(Issue_Date)\")\n",
    "monthwise_ticket_2017.show()"
   ]
  },
  {
   "cell_type": "code",
   "execution_count": 225,
   "metadata": {},
   "outputs": [
    {
     "data": {
      "image/png": "[encoded data removed]",
      "text/plain": [
       "<Figure size 432x288 with 1 Axes>"
      ]
     },
     "metadata": {},
     "output_type": "display_data"
    }
   ],
   "source": [
    "# Plotting number of tickets raised during each month of 2017\n",
    "Number_of_tickets_raised = monthwise_ticket_2017.toPandas()\n",
    "import pandas as pd\n",
    "import matplotlib.pyplot as plt\n",
    "Number_of_tickets_raised.plot(x= 'month', y='Ticket_Frequency', kind='bar')\n",
    "plt.title(\"Number of tickets issued in each month in the year 2017\")\n",
    "plt.xlabel('Month')\n",
    "plt.ylabel('Number of tickets')\n",
    "plt.show()"
   ]
  },
  {
   "cell_type": "markdown",
   "metadata": {},
   "source": [
    "- Maximum number of tickets were issued in the month of May in the year 2017. "
   ]
  },
  {
   "cell_type": "code",
   "execution_count": 226,
   "metadata": {},
   "outputs": [
    {
     "name": "stdout",
     "output_type": "stream",
     "text": [
      "+----------+----------------+\n",
      "|  Plate_ID|Ticket_Frequency|\n",
      "+----------+----------------+\n",
      "|BLANKPLATE|            5261|\n",
      "|   96089MA|             529|\n",
      "|   96087MA|             528|\n",
      "|   94905JA|             527|\n",
      "|   14828MJ|             526|\n",
      "+----------+----------------+\n",
      "only showing top 5 rows\n",
      "\n"
     ]
    }
   ],
   "source": [
    "# Grouping the data by Plate_ID \n",
    "Plate_Id = spark.sql(\"Select Plate_ID, count(*) as Ticket_Frequency from 2017_table group by Plate_ID having count(*)>1 order by Ticket_Frequency desc\")\n",
    "Plate_Id.show(5)"
   ]
  },
  {
   "cell_type": "code",
   "execution_count": 227,
   "metadata": {},
   "outputs": [
    {
     "data": {
      "text/plain": [
       "5426657"
      ]
     },
     "execution_count": 227,
     "metadata": {},
     "output_type": "execute_result"
    }
   ],
   "source": [
    "# Dropping records where tickets were issued to blank number plates\n",
    "nyc = nyc[nyc.Plate_ID != 'BLANKPLATE']\n",
    "nyc.count()"
   ]
  },
  {
   "cell_type": "markdown",
   "metadata": {},
   "source": [
    "- Some tickets have been issued to vehicles which have blank number plates.\n",
    "- 5426657 tickets were issued to vechiles having valid number plates."
   ]
  },
  {
   "cell_type": "code",
   "execution_count": 228,
   "metadata": {},
   "outputs": [
    {
     "name": "stdout",
     "output_type": "stream",
     "text": [
      "+--------------+--------+------------------+----------+--------------+-----------------+------------+------------------+---------------+--------------+\n",
      "|Summons_Number|Plate_ID|Registration_State|Issue_Date|Violation_Code|Vehicle_Body_Type|Vehicle_Make|Violation_Precinct|Issuer_Precinct|Violation_Time|\n",
      "+--------------+--------+------------------+----------+--------------+-----------------+------------+------------------+---------------+--------------+\n",
      "|             0|       0|                 0|         0|             0|                0|           0|                 0|              0|             0|\n",
      "+--------------+--------+------------------+----------+--------------+-----------------+------------+------------------+---------------+--------------+\n",
      "\n"
     ]
    }
   ],
   "source": [
    "# Checking for Null values\n",
    "from pyspark.sql.functions import isnan, when, count, col\n",
    "nyc.select([count(when(isnan(c) | col(c).isNull(), c)).alias(c) for c in nyc.columns]).show()"
   ]
  },
  {
   "cell_type": "markdown",
   "metadata": {},
   "source": [
    "- Some null values appear in the data but they are not captured as NULL's are stored as strings."
   ]
  },
  {
   "cell_type": "markdown",
   "metadata": {},
   "source": [
    "# Examining the data"
   ]
  },
  {
   "cell_type": "markdown",
   "metadata": {},
   "source": [
    "## Question 1. Find the total number of tickets for the year."
   ]
  },
  {
   "cell_type": "code",
   "execution_count": 229,
   "metadata": {},
   "outputs": [
    {
     "name": "stdout",
     "output_type": "stream",
     "text": [
      "+------------------------+\n",
      "|Number_of_tickets_issued|\n",
      "+------------------------+\n",
      "|                 5431918|\n",
      "+------------------------+\n",
      "\n"
     ]
    }
   ],
   "source": [
    "# Calculating the total number of tickets issued \n",
    "Total_tickets = spark.sql(\"Select count(distinct(Summons_Number)) as Number_of_tickets_issued from 2017_table\")\n",
    "Total_tickets.show()"
   ]
  },
  {
   "cell_type": "markdown",
   "metadata": {},
   "source": [
    "- Total number of tickets issued are 5426657."
   ]
  },
  {
   "cell_type": "markdown",
   "metadata": {},
   "source": [
    "## Question 2. Find out the number of unique states from where the cars that got parking tickets came. "
   ]
  },
  {
   "cell_type": "code",
   "execution_count": 230,
   "metadata": {},
   "outputs": [
    {
     "name": "stdout",
     "output_type": "stream",
     "text": [
      "+------------------+-----------------+\n",
      "|Registration_State|Number_of_Records|\n",
      "+------------------+-----------------+\n",
      "|                NY|          4273951|\n",
      "|                NJ|           475825|\n",
      "|                PA|           140286|\n",
      "|                CT|            70403|\n",
      "|                FL|            69468|\n",
      "|                IN|            45525|\n",
      "|                MA|            38941|\n",
      "|                VA|            34367|\n",
      "|                MD|            30213|\n",
      "|                NC|            27152|\n",
      "|                TX|            18827|\n",
      "|                IL|            18666|\n",
      "|                GA|            17537|\n",
      "|                99|            16055|\n",
      "|                AZ|            12379|\n",
      "|                OH|            12281|\n",
      "|                CA|            12153|\n",
      "|                ME|            10806|\n",
      "|                SC|            10395|\n",
      "|                MN|            10083|\n",
      "+------------------+-----------------+\n",
      "only showing top 20 rows\n",
      "\n"
     ]
    }
   ],
   "source": [
    "# Counting the number of states\n",
    "unique_states = spark.sql(\"SELECT distinct(Registration_State), Count(*) as Number_of_Records from 2017_table group by Registration_State order by Number_of_Records desc\")\n",
    "unique_states.show()"
   ]
  },
  {
   "cell_type": "code",
   "execution_count": 231,
   "metadata": {},
   "outputs": [
    {
     "data": {
      "text/plain": [
       "65"
      ]
     },
     "execution_count": 231,
     "metadata": {},
     "output_type": "execute_result"
    }
   ],
   "source": [
    "unique_states.count()"
   ]
  },
  {
   "cell_type": "markdown",
   "metadata": {},
   "source": [
    "- A total of 65 states are their from where tickets are issued.\n",
    "- The code for one of the states is 99 which appears to be wrong and has to be replace appropriately."
   ]
  },
  {
   "cell_type": "code",
   "execution_count": 232,
   "metadata": {},
   "outputs": [],
   "source": [
    "# According to the problem statement column with entry '99' has to be corrected. \n",
    "# It has to be replaced with the state having the maximum entries. \n",
    "from pyspark.sql.functions import when,lit\n",
    "nyc = nyc.withColumn('Registration_State',when(nyc[\"Registration_State\"]==\"99\",lit('NY')).otherwise(nyc[\"Registration_State\"]))"
   ]
  },
  {
   "cell_type": "code",
   "execution_count": 233,
   "metadata": {},
   "outputs": [
    {
     "data": {
      "text/plain": [
       "64"
      ]
     },
     "execution_count": 233,
     "metadata": {},
     "output_type": "execute_result"
    }
   ],
   "source": [
    "# Count of states after replacing 99\n",
    "nyc.createOrReplaceTempView(\"2017_table\")\n",
    "unique_states = spark.sql(\"SELECT Registration_State, Count(*) as Ticket_Frequency from 2017_table group by Registration_State order by Ticket_Frequency desc\")\n",
    "unique_states.count()"
   ]
  },
  {
   "cell_type": "markdown",
   "metadata": {},
   "source": [
    "- Maximum tickets have been issued for NewYork state.\n",
    "- Therefore th Numerical entry 99 was replaced by NY.\n",
    "- There are a total of 64 states from where tickets are issued after making the correction."
   ]
  },
  {
   "cell_type": "code",
   "execution_count": 234,
   "metadata": {},
   "outputs": [
    {
     "data": {
      "image/png": "[encoded data removed]",
      "text/plain": [
       "<Figure size 432x288 with 1 Axes>"
      ]
     },
     "metadata": {},
     "output_type": "display_data"
    }
   ],
   "source": [
    "# Plot showing states where maximum number of tickets were issued.\n",
    "nyc.createOrReplaceTempView(\"2017_table\")\n",
    "unique_states_plot = unique_states.toPandas()\n",
    "unique_states_plot.head(10).plot(x='Registration_State', y='Ticket_Frequency', kind='bar')\n",
    "plt.title(\"Top 10 states with maximum number of tickets issued\")\n",
    "plt.xlabel('Name of the state')\n",
    "plt.ylabel('Number of tickets issued')\n",
    "plt.show()"
   ]
  },
  {
   "cell_type": "markdown",
   "metadata": {},
   "source": [
    "# Aggregation tasks"
   ]
  },
  {
   "cell_type": "markdown",
   "metadata": {},
   "source": [
    "## Question 1. How often does each violation code occur? Display the frequency of the top five violation codes."
   ]
  },
  {
   "cell_type": "code",
   "execution_count": 235,
   "metadata": {},
   "outputs": [
    {
     "name": "stdout",
     "output_type": "stream",
     "text": [
      "+--------------+----------------+\n",
      "|Violation_Code|Ticket_Frequency|\n",
      "+--------------+----------------+\n",
      "|            21|          767740|\n",
      "|            36|          662765|\n",
      "|            38|          541526|\n",
      "|            14|          476405|\n",
      "|            20|          319439|\n",
      "+--------------+----------------+\n",
      "only showing top 5 rows\n",
      "\n"
     ]
    }
   ],
   "source": [
    "# Displaying the top 5 violation codes\n",
    "violation_code = spark.sql(\"SELECT Violation_Code, Count(*) as Ticket_Frequency from 2017_table group by Violation_code order by Ticket_Frequency desc\")\n",
    "violation_code.show(5)"
   ]
  },
  {
   "cell_type": "code",
   "execution_count": 236,
   "metadata": {},
   "outputs": [
    {
     "data": {
      "image/png": "[encoded data removed]",
      "text/plain": [
       "<Figure size 432x288 with 1 Axes>"
      ]
     },
     "metadata": {},
     "output_type": "display_data"
    }
   ],
   "source": [
    "# Top 5 Violation code\n",
    "violation_code_plot = violation_code.toPandas()\n",
    "violation_code_plot.head(5).plot(x='Violation_Code', y='Ticket_Frequency', kind='bar')\n",
    "plt.title(\"Top 5 Violation Codes\")\n",
    "plt.xlabel('Violation Code Number')\n",
    "plt.ylabel('Number of tickets issued')\n",
    "plt.show()"
   ]
  },
  {
   "cell_type": "markdown",
   "metadata": {},
   "source": [
    "- Maximum number of tickets have been issued for voilation code number 21."
   ]
  },
  {
   "cell_type": "markdown",
   "metadata": {},
   "source": [
    "## Question 2. How often does each 'vehicle body type' get a parking ticket? How about the 'vehicle make'?"
   ]
  },
  {
   "cell_type": "code",
   "execution_count": 237,
   "metadata": {},
   "outputs": [
    {
     "name": "stdout",
     "output_type": "stream",
     "text": [
      "+-----------------+----------------+\n",
      "|Vehicle_Body_Type|Ticket_Frequency|\n",
      "+-----------------+----------------+\n",
      "|             SUBN|         1882978|\n",
      "|             4DSD|         1547063|\n",
      "|              VAN|          723796|\n",
      "|             DELV|          358924|\n",
      "|              SDN|          192927|\n",
      "+-----------------+----------------+\n",
      "only showing top 5 rows\n",
      "\n"
     ]
    }
   ],
   "source": [
    "# Tickets issued based on vechile body type\n",
    "Body_Type = spark.sql(\"SELECT Vehicle_Body_Type, count(*) as Ticket_Frequency from 2017_table group by Vehicle_Body_Type order by Ticket_Frequency desc\")\n",
    "Body_Type.show(5)"
   ]
  },
  {
   "cell_type": "code",
   "execution_count": 238,
   "metadata": {},
   "outputs": [
    {
     "data": {
      "image/png": "[encoded data removed]",
      "text/plain": [
       "<Figure size 432x288 with 1 Axes>"
      ]
     },
     "metadata": {},
     "output_type": "display_data"
    }
   ],
   "source": [
    "# Plotingt violations on the basis of Vehicle_Body_Type\n",
    "Body_Type_plot = Body_Type.toPandas()\n",
    "Body_Type_plot.head(5).plot(x='Vehicle_Body_Type', y='Ticket_Frequency', kind='bar')\n",
    "plt.title(\"Violations on the basis of Vehicle_Body_Type\")\n",
    "plt.xlabel('Vehicle Body Type')\n",
    "plt.ylabel('Number of tickets issued')\n",
    "plt.show()"
   ]
  },
  {
   "cell_type": "markdown",
   "metadata": {},
   "source": [
    "- Maximum tickets have been issued to vehicles with suburban bodytypes."
   ]
  },
  {
   "cell_type": "code",
   "execution_count": 239,
   "metadata": {},
   "outputs": [
    {
     "name": "stdout",
     "output_type": "stream",
     "text": [
      "+------------+----------------+\n",
      "|Vehicle_Make|Ticket_Frequency|\n",
      "+------------+----------------+\n",
      "|        FORD|          636527|\n",
      "|       TOYOT|          605011|\n",
      "|       HONDA|          538460|\n",
      "|       NISSA|          461725|\n",
      "|       CHEVR|          355868|\n",
      "+------------+----------------+\n",
      "only showing top 5 rows\n",
      "\n"
     ]
    }
   ],
   "source": [
    "# Tickets issued based on vechile make\n",
    "vehicle_Make = spark.sql(\"SELECT Vehicle_Make, count(*) as Ticket_Frequency from 2017_table group by Vehicle_Make order by Ticket_Frequency desc\")\n",
    "vehicle_Make.show(5)"
   ]
  },
  {
   "cell_type": "code",
   "execution_count": 240,
   "metadata": {},
   "outputs": [
    {
     "data": {
      "image/png": "[encoded data removed]",
      "text/plain": [
       "<Figure size 432x288 with 1 Axes>"
      ]
     },
     "metadata": {},
     "output_type": "display_data"
    }
   ],
   "source": [
    "# Plotting violations on the basis of Vehicle_Make\n",
    "vehicle_Make_plot = vehicle_Make.toPandas()\n",
    "vehicle_Make_plot.head(5).plot(x='Vehicle_Make', y='Ticket_Frequency', kind='bar')\n",
    "plt.title(\"Violations on the basis of Vehicle Make\")\n",
    "plt.xlabel('Type of vehicle')\n",
    "plt.ylabel('Number of tickets issued')\n",
    "plt.show()"
   ]
  },
  {
   "cell_type": "markdown",
   "metadata": {},
   "source": [
    "- Maximum tickets have been issued to FORD type of vehicles."
   ]
  },
  {
   "cell_type": "markdown",
   "metadata": {},
   "source": [
    " ## Question 3. A precinct is a police station that has a certain zone of the city under its command. Find the (5 highest) frequencies of tickets for each of the following:\n",
    "1. 'Violation Precinct' (This is the precinct of the zone where the violation occurred). Using this, can you draw any insights for parking violations in any specific areas of the city?\n",
    "2. 'Issuer Precinct' (This is the precinct that issued the ticket.)\n",
    "Here, you would have noticed that the dataframe has the'Violating Precinct' or 'Issuing Precinct' as '0'. These are erroneous entries. Hence, you need to provide the records for five correct precincts. (Hint: Print the top six entries after sorting.)"
   ]
  },
  {
   "cell_type": "code",
   "execution_count": 241,
   "metadata": {},
   "outputs": [
    {
     "name": "stdout",
     "output_type": "stream",
     "text": [
      "+------------------+----------------+\n",
      "|Violation_Precinct|Ticket_Frequency|\n",
      "+------------------+----------------+\n",
      "|                 0|          925395|\n",
      "|                19|          274264|\n",
      "|                14|          203375|\n",
      "|                 1|          174620|\n",
      "|                18|          169043|\n",
      "|               114|          147223|\n",
      "+------------------+----------------+\n",
      "only showing top 6 rows\n",
      "\n"
     ]
    }
   ],
   "source": [
    "# Tickets issued in the zone where the violation occurred\n",
    "Violation_Precinct = spark.sql(\"SELECT Violation_Precinct, count(*) as Ticket_Frequency from 2017_table group by Violation_Precinct order by Ticket_Frequency desc\")\n",
    "Violation_Precinct.show(6)"
   ]
  },
  {
   "cell_type": "code",
   "execution_count": 242,
   "metadata": {},
   "outputs": [
    {
     "data": {
      "text/html": [
       "<div>\n",
       "<style scoped>\n",
       "    .dataframe tbody tr th:only-of-type {\n",
       "        vertical-align: middle;\n",
       "    }\n",
       "\n",
       "    .dataframe tbody tr th {\n",
       "        vertical-align: top;\n",
       "    }\n",
       "\n",
       "    .dataframe thead th {\n",
       "        text-align: right;\n",
       "    }\n",
       "</style>\n",
       "<table border=\"1\" class=\"dataframe\">\n",
       "  <thead>\n",
       "    <tr style=\"text-align: right;\">\n",
       "      <th></th>\n",
       "      <th>Violation_Precinct</th>\n",
       "      <th>Ticket_Frequency</th>\n",
       "    </tr>\n",
       "  </thead>\n",
       "  <tbody>\n",
       "    <tr>\n",
       "      <th>0</th>\n",
       "      <td>0</td>\n",
       "      <td>925395</td>\n",
       "    </tr>\n",
       "    <tr>\n",
       "      <th>1</th>\n",
       "      <td>19</td>\n",
       "      <td>274264</td>\n",
       "    </tr>\n",
       "    <tr>\n",
       "      <th>2</th>\n",
       "      <td>14</td>\n",
       "      <td>203375</td>\n",
       "    </tr>\n",
       "    <tr>\n",
       "      <th>3</th>\n",
       "      <td>1</td>\n",
       "      <td>174620</td>\n",
       "    </tr>\n",
       "    <tr>\n",
       "      <th>4</th>\n",
       "      <td>18</td>\n",
       "      <td>169043</td>\n",
       "    </tr>\n",
       "  </tbody>\n",
       "</table>\n",
       "</div>"
      ],
      "text/plain": [
       "  Violation_Precinct  Ticket_Frequency\n",
       "0                  0            925395\n",
       "1                 19            274264\n",
       "2                 14            203375\n",
       "3                  1            174620\n",
       "4                 18            169043"
      ]
     },
     "execution_count": 242,
     "metadata": {},
     "output_type": "execute_result"
    }
   ],
   "source": [
    "Violation_Precinct_plot = Violation_Precinct.toPandas()\n",
    "Violation_Precinct_plot.head()"
   ]
  },
  {
   "cell_type": "code",
   "execution_count": 243,
   "metadata": {},
   "outputs": [],
   "source": [
    "Violation_Precinct_plot = Violation_Precinct_plot.iloc[1:]"
   ]
  },
  {
   "cell_type": "code",
   "execution_count": 244,
   "metadata": {},
   "outputs": [
    {
     "data": {
      "image/png": "[encoded data removed]",
      "text/plain": [
       "<Figure size 432x288 with 1 Axes>"
      ]
     },
     "metadata": {},
     "output_type": "display_data"
    }
   ],
   "source": [
    "# Plotting tickets issued in the zone where the violation occurred\n",
    "Violation_Precinct_plot.head(5).plot(x='Violation_Precinct', y='Ticket_Frequency', kind='bar')\n",
    "plt.title(\"Graph showing places where voilations occured\")\n",
    "plt.xlabel('Vehicle Precinct')\n",
    "plt.ylabel('Number of tickets issued')\n",
    "plt.show()"
   ]
  },
  {
   "cell_type": "markdown",
   "metadata": {},
   "source": [
    "- Maximum voilations occured in the part of the city having a code 19."
   ]
  },
  {
   "cell_type": "code",
   "execution_count": 245,
   "metadata": {},
   "outputs": [
    {
     "name": "stdout",
     "output_type": "stream",
     "text": [
      "+---------------+----------------+\n",
      "|Issuer_Precinct|Ticket_Frequency|\n",
      "+---------------+----------------+\n",
      "|              0|         1077884|\n",
      "|             19|          266790|\n",
      "|             14|          200328|\n",
      "|              1|          168630|\n",
      "|             18|          162908|\n",
      "|            114|          143900|\n",
      "+---------------+----------------+\n",
      "only showing top 6 rows\n",
      "\n"
     ]
    }
   ],
   "source": [
    "# Police stations which issued the tickets\n",
    "Issue_precinct = spark.sql(\"SELECT Issuer_Precinct, count(*) as Ticket_Frequency from 2017_table group by Issuer_Precinct order by Ticket_Frequency desc\")  \n",
    "Issue_precinct.show(6)"
   ]
  },
  {
   "cell_type": "code",
   "execution_count": 246,
   "metadata": {},
   "outputs": [
    {
     "data": {
      "text/html": [
       "<div>\n",
       "<style scoped>\n",
       "    .dataframe tbody tr th:only-of-type {\n",
       "        vertical-align: middle;\n",
       "    }\n",
       "\n",
       "    .dataframe tbody tr th {\n",
       "        vertical-align: top;\n",
       "    }\n",
       "\n",
       "    .dataframe thead th {\n",
       "        text-align: right;\n",
       "    }\n",
       "</style>\n",
       "<table border=\"1\" class=\"dataframe\">\n",
       "  <thead>\n",
       "    <tr style=\"text-align: right;\">\n",
       "      <th></th>\n",
       "      <th>Issuer_Precinct</th>\n",
       "      <th>Ticket_Frequency</th>\n",
       "    </tr>\n",
       "  </thead>\n",
       "  <tbody>\n",
       "    <tr>\n",
       "      <th>0</th>\n",
       "      <td>0</td>\n",
       "      <td>1077884</td>\n",
       "    </tr>\n",
       "    <tr>\n",
       "      <th>1</th>\n",
       "      <td>19</td>\n",
       "      <td>266790</td>\n",
       "    </tr>\n",
       "    <tr>\n",
       "      <th>2</th>\n",
       "      <td>14</td>\n",
       "      <td>200328</td>\n",
       "    </tr>\n",
       "    <tr>\n",
       "      <th>3</th>\n",
       "      <td>1</td>\n",
       "      <td>168630</td>\n",
       "    </tr>\n",
       "    <tr>\n",
       "      <th>4</th>\n",
       "      <td>18</td>\n",
       "      <td>162908</td>\n",
       "    </tr>\n",
       "  </tbody>\n",
       "</table>\n",
       "</div>"
      ],
      "text/plain": [
       "  Issuer_Precinct  Ticket_Frequency\n",
       "0               0           1077884\n",
       "1              19            266790\n",
       "2              14            200328\n",
       "3               1            168630\n",
       "4              18            162908"
      ]
     },
     "execution_count": 246,
     "metadata": {},
     "output_type": "execute_result"
    }
   ],
   "source": [
    "Issue_precinct_plot = Issue_precinct.toPandas()\n",
    "Issue_precinct_plot.head()"
   ]
  },
  {
   "cell_type": "code",
   "execution_count": 247,
   "metadata": {},
   "outputs": [],
   "source": [
    "Issue_precinct_plot = Issue_precinct_plot.iloc[1:]"
   ]
  },
  {
   "cell_type": "code",
   "execution_count": 248,
   "metadata": {},
   "outputs": [
    {
     "data": {
      "image/png": "[encoded data removed]",
      "text/plain": [
       "<Figure size 432x288 with 1 Axes>"
      ]
     },
     "metadata": {},
     "output_type": "display_data"
    }
   ],
   "source": [
    "# Police stations which issued the tickets\n",
    "Issue_precinct_plot.head(5).plot(x='Issuer_Precinct', y='Ticket_Frequency', kind='bar')\n",
    "plt.title(\"Top 5 police stations that issued tickets\")\n",
    "plt.xlabel('Issuer Precinct')\n",
    "plt.ylabel('Number of tickets issued')\n",
    "plt.show()"
   ]
  },
  {
   "cell_type": "markdown",
   "metadata": {},
   "source": [
    "- Maximum tickets will be issued in areas where maximum voilations occured ie. areas having code 19, 14, 1, 18 and 114."
   ]
  },
  {
   "cell_type": "markdown",
   "metadata": {},
   "source": [
    "## Question 4. Find the violation code frequencies for three precincts that have issued the most number of tickets. Do these precinct zones have an exceptionally high frequency of certain violation codes? Are these codes common across precincts? "
   ]
  },
  {
   "cell_type": "markdown",
   "metadata": {},
   "source": [
    "- Maximum number of violation tickets were issued by Precinct 14, 19 and 1 as noticed in the above question."
   ]
  },
  {
   "cell_type": "code",
   "execution_count": 249,
   "metadata": {},
   "outputs": [
    {
     "name": "stdout",
     "output_type": "stream",
     "text": [
      "+--------------+---------+\n",
      "|Violation_Code|Frequency|\n",
      "+--------------+---------+\n",
      "|            14|    45019|\n",
      "|            69|    30453|\n",
      "|            31|    22528|\n",
      "|            47|    18357|\n",
      "|            42|    10022|\n",
      "+--------------+---------+\n",
      "only showing top 5 rows\n",
      "\n"
     ]
    }
   ],
   "source": [
    "# Evaluating violation codes for precinct 14\n",
    "violation_code_freq_precinct14 = spark.sql(\"select Violation_Code, count(*) as Frequency from 2017_table where Issuer_Precinct = 14 group by Violation_Code order by Frequency desc\" )\n",
    "violation_code_freq_precinct14.show(5)"
   ]
  },
  {
   "cell_type": "code",
   "execution_count": 250,
   "metadata": {},
   "outputs": [
    {
     "name": "stdout",
     "output_type": "stream",
     "text": [
      "+--------------+---------+\n",
      "|Violation_Code|Frequency|\n",
      "+--------------+---------+\n",
      "|            46|    48422|\n",
      "|            38|    36332|\n",
      "|            37|    36046|\n",
      "|            14|    29791|\n",
      "|            21|    28409|\n",
      "+--------------+---------+\n",
      "only showing top 5 rows\n",
      "\n"
     ]
    }
   ],
   "source": [
    "# Evaluating violation codes for precinct 19\n",
    "violation_code_freq_precinct19 = spark.sql(\"select Violation_Code, count(*) as Frequency from 2017_table where Issuer_Precinct = 19 group by Violation_Code order by Frequency desc\" )\n",
    "violation_code_freq_precinct19.show(5)"
   ]
  },
  {
   "cell_type": "code",
   "execution_count": 251,
   "metadata": {},
   "outputs": [
    {
     "name": "stdout",
     "output_type": "stream",
     "text": [
      "+--------------+---------+\n",
      "|Violation_Code|Frequency|\n",
      "+--------------+---------+\n",
      "|            14|    38345|\n",
      "|            16|    19080|\n",
      "|            20|    15395|\n",
      "|            46|    12743|\n",
      "|            38|     8525|\n",
      "+--------------+---------+\n",
      "only showing top 5 rows\n",
      "\n"
     ]
    }
   ],
   "source": [
    "# Evaluating violation codes for precinct 1\n",
    "violation_code_freq_precinct1 = spark.sql(\"select Violation_Code, count(*) as Frequency from 2017_table where Issuer_Precinct = 1 group by Violation_Code order by Frequency desc\" )\n",
    "violation_code_freq_precinct1.show(5)"
   ]
  },
  {
   "cell_type": "markdown",
   "metadata": {},
   "source": [
    "- Violation code 14 and 69 are similar for precinct 14 and 1. These also have high number of tickets issued."
   ]
  },
  {
   "cell_type": "markdown",
   "metadata": {},
   "source": [
    "## Question 5. Find out the properties of parking violations across different times of the day:\n",
    "1. Find a way to deal with missing values, if any.\n",
    "2. The Violation Time field is specified in a strange format. Find a way to make this a time attribute that you can use to divide into groups.\n",
    "3. Divide 24 hours into six equal discrete bins of time. Choose the intervals as you see fit. For each of these groups, find the three most commonly occurring violations.\n",
    "4. Now, try another direction. For the three most commonly occurring violation codes, find the most common time of the day (in terms of the bins from the previous part)."
   ]
  },
  {
   "cell_type": "code",
   "execution_count": 252,
   "metadata": {},
   "outputs": [
    {
     "name": "stdout",
     "output_type": "stream",
     "text": [
      "+------------------------+\n",
      "|Number_of_missing_values|\n",
      "+------------------------+\n",
      "|                       0|\n",
      "+------------------------+\n",
      "\n"
     ]
    }
   ],
   "source": [
    "# Finding the number of missing values in the violation time column\n",
    "null_values = spark.sql(\"SELECT count(*) as Number_of_missing_values from 2017_table WHERE Violation_Time is NULL\")\n",
    "null_values.show()"
   ]
  },
  {
   "cell_type": "code",
   "execution_count": 253,
   "metadata": {},
   "outputs": [
    {
     "name": "stdout",
     "output_type": "stream",
     "text": [
      "+--------------+\n",
      "|Violation_Time|\n",
      "+--------------+\n",
      "|         0710A|\n",
      "|         0826A|\n",
      "|         0133P|\n",
      "|         1220P|\n",
      "|         0321P|\n",
      "|         1025A|\n",
      "|         1130A|\n",
      "|         0125P|\n",
      "|         0114P|\n",
      "|         0843A|\n",
      "+--------------+\n",
      "only showing top 10 rows\n",
      "\n"
     ]
    }
   ],
   "source": [
    "# Checking the violation time column\n",
    "nyc.select('Violation_Time').show(10)"
   ]
  },
  {
   "cell_type": "code",
   "execution_count": 254,
   "metadata": {},
   "outputs": [
    {
     "name": "stdout",
     "output_type": "stream",
     "text": [
      "+--------------+--------------+--------------+------------------+\n",
      "|Summons_Number|Violation_Code|Violation_Time|Violation_Time_bin|\n",
      "+--------------+--------------+--------------+------------------+\n",
      "|    8170080708|            38|         0125P|                 4|\n",
      "|    7310311681|            38|         0929A|                 3|\n",
      "|    8496410791|            14|         0538P|                 5|\n",
      "|    8562856654|            20|         1001A|                 3|\n",
      "|    8528055565|            21|         0904A|                 3|\n",
      "|    8264056544|            37|         1229P|                 4|\n",
      "|    8484008952|            47|         0102P|                 4|\n",
      "|    8564805686|            38|         0433P|                 5|\n",
      "|    4632802384|            36|         0156P|                 4|\n",
      "|    4631403196|            36|         1155A|                 3|\n",
      "+--------------+--------------+--------------+------------------+\n",
      "only showing top 10 rows\n",
      "\n"
     ]
    }
   ],
   "source": [
    "# Dividing 24 hours into six equal bins of time.\n",
    "time_bins = spark.sql(\"SELECT Summons_Number, Violation_Code , Violation_Time, case when substring(Violation_Time,1,2) in ('00','01','02','03','12') and upper(substring(Violation_Time,-1))='A' then 1 when substring(Violation_Time,1,2) in ('04','05','06','07') and upper(substring(Violation_Time,-1))='A' then 2 when substring(Violation_Time,1,2) in ('08','09','10','11') and upper(substring(Violation_Time,-1))='A' then 3 when substring(Violation_Time,1,2) in ('12','00','01','02','03') and upper(substring(Violation_Time,-1))='P' then 4 when substring(Violation_Time,1,2) in ('04','05','06','07') and upper(substring(Violation_Time,-1))='P' then 5 when substring(Violation_Time,1,2) in ('08','09','10','11') and upper(substring(Violation_Time,-1))='P' then 6 else null end as Violation_Time_bin from 2017_table where Violation_Time is not null or (length(Violation_Time)=5 and upper(substring(Violation_Time,-1)) in ('A','P') and substring(Violation_Time,1,2) in ('00','01','02','03','04','05','06','07', '08','09','10','11','12'))\")\n",
    "time_bins.show(10)"
   ]
  },
  {
   "cell_type": "code",
   "execution_count": 255,
   "metadata": {},
   "outputs": [
    {
     "name": "stdout",
     "output_type": "stream",
     "text": [
      "+------------------+-------+\n",
      "|Violation_Time_bin|  count|\n",
      "+------------------+-------+\n",
      "|              null|     81|\n",
      "|                 1| 164142|\n",
      "|                 6| 175957|\n",
      "|                 3|2161619|\n",
      "|                 5| 636718|\n",
      "|                 4|1838573|\n",
      "|                 2| 449567|\n",
      "+------------------+-------+\n",
      "\n"
     ]
    }
   ],
   "source": [
    "time_bins.createOrReplaceTempView(\"bins_table\")\n",
    "# violation code time count\n",
    "time_count = spark.sql(\"SELECT Violation_Time_bin, count(*) count from bins_table group by Violation_Time_bin\")\n",
    "time_count.show()"
   ]
  },
  {
   "cell_type": "markdown",
   "metadata": {},
   "source": [
    "- There are a few records which do not fall in to any bin, it might be ppossible that the time recorded is wrong.\n",
    "- Maximum voilations are made between 8:00 AM and 12:00 PM"
   ]
  },
  {
   "cell_type": "code",
   "execution_count": 256,
   "metadata": {},
   "outputs": [
    {
     "name": "stdout",
     "output_type": "stream",
     "text": [
      "+--------------+-------------------+\n",
      "|Violation_Code|Count_of_violations|\n",
      "+--------------+-------------------+\n",
      "|            21|              36934|\n",
      "|            40|              25810|\n",
      "|            78|              15513|\n",
      "+--------------+-------------------+\n",
      "only showing top 3 rows\n",
      "\n"
     ]
    }
   ],
   "source": [
    "# Most common voilation for the first bin\n",
    "First_bin = spark.sql(\"select Violation_Code,count(*) Count_of_violations from bins_table where Violation_Time_bin == 1 group by Violation_Code order by Count_of_violations desc\")\n",
    "First_bin.show(3)"
   ]
  },
  {
   "cell_type": "markdown",
   "metadata": {},
   "source": [
    "- Most common voilation codes for the first bin which includes time interval from 12:00 AM to 4:00 AM are 21, 40 and 78."
   ]
  },
  {
   "cell_type": "code",
   "execution_count": 257,
   "metadata": {},
   "outputs": [
    {
     "name": "stdout",
     "output_type": "stream",
     "text": [
      "+--------------+-------------------+\n",
      "|Violation_Code|Count_of_violations|\n",
      "+--------------+-------------------+\n",
      "|            14|              74095|\n",
      "|            40|              60609|\n",
      "|            21|              57876|\n",
      "+--------------+-------------------+\n",
      "only showing top 3 rows\n",
      "\n"
     ]
    }
   ],
   "source": [
    "# Most common voilation for the second bin\n",
    "Second_bin = spark.sql(\"select Violation_Code,count(*) Count_of_violations from bins_table where Violation_Time_bin == 2 group by Violation_Code order by Count_of_violations desc\")\n",
    "Second_bin.show(3)"
   ]
  },
  {
   "cell_type": "markdown",
   "metadata": {},
   "source": [
    "- Most common voilation codes for the second bin which includes time interval from 4:00 AM to 8:00 AM are 14, 40 and 21."
   ]
  },
  {
   "cell_type": "code",
   "execution_count": 258,
   "metadata": {},
   "outputs": [
    {
     "name": "stdout",
     "output_type": "stream",
     "text": [
      "+--------------+-------------------+\n",
      "|Violation_Code|Count_of_violations|\n",
      "+--------------+-------------------+\n",
      "|            21|             597827|\n",
      "|            36|             348165|\n",
      "|            38|             176310|\n",
      "+--------------+-------------------+\n",
      "only showing top 3 rows\n",
      "\n"
     ]
    }
   ],
   "source": [
    "# Most common voilation for the third bin\n",
    "Third_bin = spark.sql(\"select Violation_Code,count(*) Count_of_violations from bins_table where Violation_Time_bin == 3 group by Violation_Code order by Count_of_violations desc\")\n",
    "Third_bin.show(3)"
   ]
  },
  {
   "cell_type": "markdown",
   "metadata": {},
   "source": [
    "- Most common voilation codes for the third bin which includes time interval from 8:00 AM to 12:00 PM are 21, 36 and 38."
   ]
  },
  {
   "cell_type": "code",
   "execution_count": 259,
   "metadata": {},
   "outputs": [
    {
     "name": "stdout",
     "output_type": "stream",
     "text": [
      "+--------------+-------------------+\n",
      "|Violation_Code|Count_of_violations|\n",
      "+--------------+-------------------+\n",
      "|            36|             286284|\n",
      "|            38|             240511|\n",
      "|            37|             166969|\n",
      "+--------------+-------------------+\n",
      "only showing top 3 rows\n",
      "\n"
     ]
    }
   ],
   "source": [
    "# Most common voilation for the forth bin\n",
    "Forth_bin = spark.sql(\"select Violation_Code,count(*) Count_of_violations from bins_table where Violation_Time_bin == 4 group by Violation_Code order by Count_of_violations desc\")\n",
    "Forth_bin.show(3)"
   ]
  },
  {
   "cell_type": "markdown",
   "metadata": {},
   "source": [
    "- Most common voilation codes for the forth bin which includes time interval from 12:00 PM to 4:00 PM are 36, 38 and 37."
   ]
  },
  {
   "cell_type": "code",
   "execution_count": 260,
   "metadata": {},
   "outputs": [
    {
     "name": "stdout",
     "output_type": "stream",
     "text": [
      "+--------------+-------------------+\n",
      "|Violation_Code|Count_of_violations|\n",
      "+--------------+-------------------+\n",
      "|            38|             102784|\n",
      "|            14|              75856|\n",
      "|            37|              70317|\n",
      "+--------------+-------------------+\n",
      "only showing top 3 rows\n",
      "\n"
     ]
    }
   ],
   "source": [
    "# Most common voilation for the fifth bin\n",
    "Fifth_bin = spark.sql(\"select Violation_Code,count(*) Count_of_violations from bins_table where Violation_Time_bin == 5 group by Violation_Code order by Count_of_violations desc\")\n",
    "Fifth_bin.show(3)"
   ]
  },
  {
   "cell_type": "markdown",
   "metadata": {},
   "source": [
    "- Most common voilation codes for the fifth bin which includes time interval from 4:00 PM to 8:00 PM are 38, 14 and 37."
   ]
  },
  {
   "cell_type": "code",
   "execution_count": 261,
   "metadata": {},
   "outputs": [
    {
     "name": "stdout",
     "output_type": "stream",
     "text": [
      "+--------------+-------------------+\n",
      "|Violation_Code|Count_of_violations|\n",
      "+--------------+-------------------+\n",
      "|             7|              26293|\n",
      "|            40|              22301|\n",
      "|            14|              21026|\n",
      "+--------------+-------------------+\n",
      "only showing top 3 rows\n",
      "\n"
     ]
    }
   ],
   "source": [
    "# Most common voilation for the sixth bin\n",
    "Sixth_bin = spark.sql(\"select Violation_Code,count(*) Count_of_violations from bins_table where Violation_Time_bin == 6 group by Violation_Code order by Count_of_violations desc\")\n",
    "Sixth_bin.show(3)"
   ]
  },
  {
   "cell_type": "markdown",
   "metadata": {},
   "source": [
    "- Most common voilation codes for the sixth bin which includes time interval from 8:00 PM to 12:00 AM are 7, 40 and 14."
   ]
  },
  {
   "cell_type": "markdown",
   "metadata": {},
   "source": [
    "- Most common Voilation Codes are 21, 36 and 38."
   ]
  },
  {
   "cell_type": "code",
   "execution_count": 262,
   "metadata": {},
   "outputs": [
    {
     "name": "stdout",
     "output_type": "stream",
     "text": [
      "+------------------+---------------+\n",
      "|Violation_Time_bin|Violation_count|\n",
      "+------------------+---------------+\n",
      "|                 3|        1122302|\n",
      "|                 4|         601432|\n",
      "|                 5|         116574|\n",
      "+------------------+---------------+\n",
      "only showing top 3 rows\n",
      "\n"
     ]
    }
   ],
   "source": [
    "# Checking the time bins for the most common voilation codes\n",
    "time_bin = spark.sql(\"select Violation_Time_bin, count(*) Violation_count from bins_table where Violation_Code in (21, 36, 38) group by Violation_Time_bin order by Violation_count desc\")\n",
    "time_bin.show(3)"
   ]
  },
  {
   "cell_type": "markdown",
   "metadata": {},
   "source": [
    "- For the most common voilation codes of the day the time bins are 3, 4 and 5.\n",
    "- Maximum voilations occur between 8:00 AM to 12:00 PM."
   ]
  },
  {
   "cell_type": "markdown",
   "metadata": {},
   "source": [
    "## Question 6. Let’s try and find some seasonality in this data:\n",
    "1. First, divide the year into a certain number of seasons, and find the frequencies of tickets for each season\n",
    "2. Then, find the three most common violations for each of these seasons."
   ]
  },
  {
   "cell_type": "code",
   "execution_count": 263,
   "metadata": {},
   "outputs": [
    {
     "name": "stdout",
     "output_type": "stream",
     "text": [
      "+--------------+---------------+-------+\n",
      "|Violation_Code|Issuer_Precinct|Seasons|\n",
      "+--------------+---------------+-------+\n",
      "|            70|             19| Winter|\n",
      "|            40|            108| Spring|\n",
      "|            14|             25| Winter|\n",
      "|            20|            100| Spring|\n",
      "|            62|            108| Winter|\n",
      "|            36|              0| Winter|\n",
      "|            46|             33| Spring|\n",
      "|            21|              0| Winter|\n",
      "|            36|              0| Spring|\n",
      "|            37|             84| Winter|\n",
      "|            14|             46| Winter|\n",
      "|             7|              0| Spring|\n",
      "|            40|             43| Spring|\n",
      "|            36|              0| Winter|\n",
      "|            38|             70| Winter|\n",
      "|            20|            114| Winter|\n",
      "|            21|            109| Spring|\n",
      "|             7|              0| Spring|\n",
      "|            70|            104| Winter|\n",
      "|            37|             88| Winter|\n",
      "+--------------+---------------+-------+\n",
      "only showing top 20 rows\n",
      "\n"
     ]
    }
   ],
   "source": [
    "# Dividing the data into seasons\n",
    "tickets_seasonality = spark.sql(\"select Violation_Code , Issuer_Precinct, case when MONTH(Issue_Date) in (04,05,06) then 'Spring' when MONTH(Issue_Date) in (07,08,09) then 'Summer' when MONTH(Issue_Date) in (10,11,12) then 'Autumn' when MONTH(Issue_Date) in (01,02,03) then 'Winter' else 'Season_unknown' end  as Seasons from 2017_table\")\n",
    "tickets_seasonality.show()"
   ]
  },
  {
   "cell_type": "code",
   "execution_count": 264,
   "metadata": {},
   "outputs": [
    {
     "name": "stdout",
     "output_type": "stream",
     "text": [
      "+-------+-----------------+\n",
      "|Seasons|Number_of_tickets|\n",
      "+-------+-----------------+\n",
      "| Spring|          2758344|\n",
      "| Winter|          2666304|\n",
      "| Summer|             1042|\n",
      "| Autumn|              967|\n",
      "+-------+-----------------+\n",
      "\n"
     ]
    }
   ],
   "source": [
    "# Season wise ticket count\n",
    "tickets_seasonality.createOrReplaceTempView(\"seasonality_table\")\n",
    "tickets_seasonality_freq = spark.sql(\"select Seasons, count(*) as Number_of_tickets from seasonality_table group by 1 order by 2 desc\")\n",
    "tickets_seasonality_freq.show()"
   ]
  },
  {
   "cell_type": "code",
   "execution_count": 265,
   "metadata": {},
   "outputs": [
    {
     "name": "stdout",
     "output_type": "stream",
     "text": [
      "+--------------+---------+\n",
      "|Violation_Code|Frequency|\n",
      "+--------------+---------+\n",
      "|            21|   393732|\n",
      "|            36|   314525|\n",
      "|            38|   254882|\n",
      "+--------------+---------+\n",
      "only showing top 3 rows\n",
      "\n"
     ]
    }
   ],
   "source": [
    "# Violations made during Spring season\n",
    "violation_spring = spark.sql(\"select Violation_Code, count(*) as Frequency from seasonality_table where Seasons = 'Spring' group by Violation_Code order by Frequency desc\" )\n",
    "violation_spring.show(3)"
   ]
  },
  {
   "cell_type": "code",
   "execution_count": 266,
   "metadata": {},
   "outputs": [
    {
     "name": "stdout",
     "output_type": "stream",
     "text": [
      "+--------------+---------+\n",
      "|Violation_Code|Frequency|\n",
      "+--------------+---------+\n",
      "|            21|   373680|\n",
      "|            36|   348240|\n",
      "|            38|   286629|\n",
      "+--------------+---------+\n",
      "only showing top 3 rows\n",
      "\n"
     ]
    }
   ],
   "source": [
    "# Violations made during winter season\n",
    "violation_winter = spark.sql(\"select Violation_Code, count(*) as Frequency from seasonality_table where Seasons = 'Winter' group by Violation_Code order by Frequency desc\" )\n",
    "violation_winter.show(3)"
   ]
  },
  {
   "cell_type": "code",
   "execution_count": 267,
   "metadata": {},
   "outputs": [
    {
     "name": "stdout",
     "output_type": "stream",
     "text": [
      "+--------------+---------+\n",
      "|Violation_Code|Frequency|\n",
      "+--------------+---------+\n",
      "|            21|      228|\n",
      "|            46|      219|\n",
      "|            40|      109|\n",
      "+--------------+---------+\n",
      "only showing top 3 rows\n",
      "\n"
     ]
    }
   ],
   "source": [
    "# Violations made during Summer season\n",
    "violation_summer = spark.sql(\"select Violation_Code, count(*) as Frequency from seasonality_table where Seasons = 'Summer' group by Violation_Code order by Frequency desc\" )\n",
    "violation_summer.show(3)"
   ]
  },
  {
   "cell_type": "code",
   "execution_count": 268,
   "metadata": {},
   "outputs": [
    {
     "name": "stdout",
     "output_type": "stream",
     "text": [
      "+--------------+---------+\n",
      "|Violation_Code|Frequency|\n",
      "+--------------+---------+\n",
      "|            46|      219|\n",
      "|            40|      120|\n",
      "|            21|      100|\n",
      "+--------------+---------+\n",
      "only showing top 3 rows\n",
      "\n"
     ]
    }
   ],
   "source": [
    "# Violations made during Autumn season\n",
    "violation_autumn = spark.sql(\"select Violation_Code, count(*) as Frequency from seasonality_table where Seasons = 'Autumn' group by Violation_Code order by Frequency desc\" )\n",
    "violation_autumn.show(3)"
   ]
  },
  {
   "cell_type": "markdown",
   "metadata": {},
   "source": [
    "- Even while evaluating the seasonal variation the maximum type of voilation code recorded are 21, 36 and 38."
   ]
  },
  {
   "cell_type": "markdown",
   "metadata": {},
   "source": [
    "## Question 7. The fines collected from all the instances of parking violation constitute a source of revenue for the NYC Police Department. Let’s take an example of estimating this for the three most commonly occurring codes:\n",
    "Find the total occurrences of the three most common violation codes.\n",
    "Then, visit the website:\n",
    "http://www1.nyc.gov/site/finance/vehicles/services-violation-codes.page\n",
    "It lists the fines associated with different violation codes. They’re divided into two categories: one for the highest-density locations in the city and the other for the rest of the city. For the sake of simplicity, take the average of the two.\n",
    "Using this information, find the total amount collected for the three violation codes with the maximum tickets. State the code that has the highest total collection.\n",
    "What can you intuitively infer from these findings?"
   ]
  },
  {
   "cell_type": "code",
   "execution_count": 269,
   "metadata": {},
   "outputs": [
    {
     "name": "stdout",
     "output_type": "stream",
     "text": [
      "+--------------+----------------------+\n",
      "|Violation_Code|Frequency_of_violation|\n",
      "+--------------+----------------------+\n",
      "|            21|                767740|\n",
      "|            36|                662765|\n",
      "|            38|                541526|\n",
      "+--------------+----------------------+\n",
      "only showing top 3 rows\n",
      "\n"
     ]
    }
   ],
   "source": [
    "# Most common violations made\n",
    "Mostcommon_Violationcodes = spark.sql(\"select Violation_Code, count(*) as Frequency_of_violation from 2017_table group by Violation_Code order by Frequency_of_violation desc\")\n",
    "Mostcommon_Violationcodes.show(3)"
   ]
  },
  {
   "cell_type": "code",
   "execution_count": 271,
   "metadata": {},
   "outputs": [
    {
     "name": "stdout",
     "output_type": "stream",
     "text": [
      "+--------------+----------------------+--------+\n",
      "|Violation_Code|Frequency_of_violation|    fine|\n",
      "+--------------+----------------------+--------+\n",
      "|            21|                767740|49903100|\n",
      "|            36|                662765|33138250|\n",
      "|            38|                541526|27076300|\n",
      "+--------------+----------------------+--------+\n",
      "only showing top 3 rows\n",
      "\n",
      "Total fine collected =  110117650\n"
     ]
    }
   ],
   "source": [
    "# Calculating the fine\n",
    "from pyspark.sql.functions import when\n",
    "Applicable_fine=Mostcommon_Violationcodes.withColumn(\"fine\",when(Mostcommon_Violationcodes.Violation_Code == 21, (Mostcommon_Violationcodes.Frequency_of_violation) *65).otherwise((Mostcommon_Violationcodes.Frequency_of_violation)*50))\n",
    "Applicable_fine.show(3)\n",
    "print('Total fine collected = ',767740*65+662765*50+541526*50)"
   ]
  },
  {
   "cell_type": "markdown",
   "metadata": {},
   "source": [
    "- Maximum traffic violations were made from Jan to June ie in the winter and spring season.\n",
    "- The most common ciolation code was 21.\n",
    "- Maximum revenue was generated by code 21. "
   ]
  },
  {
   "cell_type": "code",
   "execution_count": 272,
   "metadata": {},
   "outputs": [],
   "source": [
    "# Stopping the spark session\n",
    "spark.stop()"
   ]
  },
  {
   "cell_type": "code",
   "execution_count": null,
   "metadata": {},
   "outputs": [],
   "source": []
  }
 ],
 "metadata": {
  "kernelspec": {
   "display_name": "PySpark",
   "language": "python",
   "name": "pyspark"
  },
  "language_info": {
   "codemirror_mode": {
    "name": "ipython",
    "version": 3
   },
   "file_extension": ".py",
   "mimetype": "text/x-python",
   "name": "python",
   "nbconvert_exporter": "python",
   "pygments_lexer": "ipython3",
   "version": "3.6.5"
  }
 },
 "nbformat": 4,
 "nbformat_minor": 2
}
